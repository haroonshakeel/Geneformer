{
 "cells": [
  {
   "cell_type": "code",
   "execution_count": 1,
   "id": "f23d63d4",
   "metadata": {},
   "outputs": [],
   "source": [
    "import datetime\n",
    "from geneformer import Classifier\n",
    "\n",
    "import numpy as np\n",
    "import torch\n",
    "import os\n",
    "import random\n",
    "import pickle"
   ]
  },
  {
   "cell_type": "code",
   "execution_count": 2,
   "id": "36ccac4e-9b20-4f28-9ec7-a31aba158128",
   "metadata": {},
   "outputs": [
    {
     "data": {
      "text/plain": [
       "True"
      ]
     },
     "execution_count": 2,
     "metadata": {},
     "output_type": "execute_result"
    }
   ],
   "source": [
    "torch.cuda.is_available()"
   ]
  },
  {
   "cell_type": "code",
   "execution_count": 3,
   "id": "76ec1953-38a6-4051-82bc-00247ecf13b8",
   "metadata": {},
   "outputs": [
    {
     "name": "stdout",
     "output_type": "stream",
     "text": [
      "GENE_MEDIAN_FILE: /hpcfs/groups/phoenix-hpc-mangiola_laboratory/haroon/geneformer/Geneformer/geneformer/gene_dictionaries_30m/gene_median_dictionary_gc30M.pkl\n",
      "TOKEN_DICTIONARY_FILE: /hpcfs/groups/phoenix-hpc-mangiola_laboratory/haroon/geneformer/Geneformer/geneformer/gene_dictionaries_30m/token_dictionary_gc30M.pkl\n",
      "ENSEMBL_MAPPING_FILE: /hpcfs/groups/phoenix-hpc-mangiola_laboratory/haroon/geneformer/Geneformer/geneformer/gene_dictionaries_30m/ensembl_mapping_dict_gc30M.pkl\n"
     ]
    }
   ],
   "source": [
    "seed_num = 0\n",
    "random.seed(seed_num)\n",
    "np.random.seed(seed_num)\n",
    "seed_val = 42\n",
    "torch.manual_seed(seed_val)\n",
    "torch.cuda.manual_seed_all(seed_val)\n",
    "\n",
    "BASE_DIR = \"/hpcfs/groups/phoenix-hpc-mangiola_laboratory/haroon/geneformer\"\n",
    "AGGREGATION_LEVEL = \"metacell_2\"  # Set aggregation level to 'singlecell' for single-cell data\n",
    "MODEL_VARIANT = \"30M\"  # Specify the model variant, e.g., \"30M\" or \"95M\"\n",
    "TASK = \"dosage_sensitivity\"\n",
    "DATASET = \"genecorpus_dosage_sensitivity\"\n",
    "\n",
    "VALID_COMBINATIONS = {\n",
    "    \"disease_classification\": [\"genecorpus_heart_disease\", \"cellnexus_blood_disease\"],\n",
    "    \"dosage_sensitivity\": [\"genecorpus_dosage_sensitivity\"]\n",
    "}\n",
    "\n",
    "assert TASK in VALID_COMBINATIONS, f\"Unknown TASK: '{TASK}'\"\n",
    "assert DATASET in VALID_COMBINATIONS[TASK], \\\n",
    "    f\"For TASK='{TASK}', DATASET must be one of {VALID_COMBINATIONS[TASK]}, got '{DATASET}'\"\n",
    "                         \n",
    "if MODEL_VARIANT == \"30M\":\n",
    "    GENE_MEDIAN_FILE = os.path.join(BASE_DIR, \"Geneformer/geneformer/gene_dictionaries_30m/gene_median_dictionary_gc30M.pkl\")\n",
    "    TOKEN_DICTIONARY_FILE = os.path.join(BASE_DIR, \"Geneformer/geneformer/gene_dictionaries_30m/token_dictionary_gc30M.pkl\")\n",
    "    ENSEMBL_MAPPING_FILE = os.path.join(BASE_DIR, \"Geneformer/geneformer/gene_dictionaries_30m/ensembl_mapping_dict_gc30M.pkl\")\n",
    "elif MODEL_VARIANT == \"95M\":\n",
    "    GENE_MEDIAN_FILE = os.path.join(BASE_DIR, \"Geneformer/geneformer/gene_median_dictionary_gc95M.pkl\")\n",
    "    TOKEN_DICTIONARY_FILE = os.path.join(BASE_DIR, \"Geneformer/geneformer/token_dictionary_gc95M.pkl\")\n",
    "    ENSEMBL_MAPPING_FILE = os.path.join(BASE_DIR, \"Geneformer/geneformer/ensembl_mapping_dict_gc95M.pkl\")\n",
    "else:\n",
    "    raise ValueError(\"MODEL_VARIANT must be either '30M' or '95M'\")\n",
    "\n",
    "# Print the final paths to verify\n",
    "print(f\"GENE_MEDIAN_FILE: {GENE_MEDIAN_FILE}\")\n",
    "print(f\"TOKEN_DICTIONARY_FILE: {TOKEN_DICTIONARY_FILE}\")\n",
    "print(f\"ENSEMBL_MAPPING_FILE: {ENSEMBL_MAPPING_FILE}\")\n",
    "\n",
    "\n",
    "if TASK == \"disease_classification\":\n",
    "    classifier_type = \"cell\"\n",
    "elif TASK == \"dosage_sensitivity\":\n",
    "    classifier_type = \"gene\"\n",
    "\n",
    "else:\n",
    "    raise ValueError(\"TASK must be either 'disease_classification' or 'dosage_sensitivity'\")\n",
    "\n",
    "\n",
    "model_version = \"V1\" # For now it does not do anything, but it is here for future compatibility\n",
    "\n",
    " # model_version : str\n",
    " #            | To auto-select settings for model version other than current default.\n",
    " #            | Current options: V1: models pretrained on ~30M cells, V2: models pretrained on ~104M cells   \n",
    "\n",
    "output_dir = os.path.join(BASE_DIR, \"trained_gene_classification_models\", TASK, DATASET, str(MODEL_VARIANT) + \"_\" + str(AGGREGATION_LEVEL))\n",
    "os.makedirs(output_dir, exist_ok=True)"
   ]
  },
  {
   "cell_type": "code",
   "execution_count": 4,
   "id": "8a17d0bb",
   "metadata": {},
   "outputs": [
    {
     "data": {
      "text/plain": [
       "'/hpcfs/groups/phoenix-hpc-mangiola_laboratory/haroon/geneformer/datasets/dosage_sensitivity/genecorpus_dosage_sensitivity'"
      ]
     },
     "execution_count": 4,
     "metadata": {},
     "output_type": "execute_result"
    }
   ],
   "source": [
    "DATASET_PATH = os.path.join(BASE_DIR, \"datasets\", TASK, DATASET)\n",
    "\n",
    "DATASET_PATH"
   ]
  },
  {
   "cell_type": "code",
   "execution_count": 5,
   "id": "1c3f8960",
   "metadata": {},
   "outputs": [],
   "source": [
    "# Example input_data_file: https://huggingface.co/datasets/ctheodoris/Genecorpus-30M/blob/main/example_input_files/gene_classification/dosage_sensitive_tfs/dosage_sensitivity_TFs.pickle\n",
    "with open(os.path.join(DATASET_PATH, \"dosage_sensitivity_TFs.pickle\"), \"rb\") as fp:\n",
    "    gene_class_dict = pickle.load(fp)"
   ]
  },
  {
   "cell_type": "code",
   "execution_count": 6,
   "id": "fa431b66-9c0d-4af4-a7b7-ce2f31947c19",
   "metadata": {},
   "outputs": [],
   "source": [
    "DATASET_PATH = os.path.join(BASE_DIR, \"datasets\", TASK, DATASET)\n",
    "if TASK == \"disease_classification\" and DATASET == \"genecorpus_heart_disease\":\n",
    "    input_data_file = os.path.join(DATASET_PATH, \"human_dcm_hcm_nf.dataset\")\n",
    "    cell_state_dict = {\"state_key\": \"disease\", \"states\": \"all\"}\n",
    "    filter_data_dict={\"cell_type\":[\"Cardiomyocyte1\",\"Cardiomyocyte2\",\"Cardiomyocyte3\"]}\n",
    "\n",
    "    # previously balanced splits with prepare_data and validate functions\n",
    "    # argument attr_to_split set to \"individual\" and attr_to_balance set to [\"disease\",\"lvef\",\"age\",\"sex\",\"length\"]\n",
    "    train_ids = [\"1447\", \"1600\", \"1462\", \"1558\", \"1300\", \"1508\", \"1358\", \"1678\", \"1561\", \"1304\", \"1610\", \"1430\", \"1472\", \"1707\", \"1726\", \"1504\", \"1425\", \"1617\", \"1631\", \"1735\", \"1582\", \"1722\", \"1622\", \"1630\", \"1290\", \"1479\", \"1371\", \"1549\", \"1515\"]\n",
    "    eval_ids = [\"1422\", \"1510\", \"1539\", \"1606\", \"1702\"]\n",
    "    test_ids = [\"1437\", \"1516\", \"1602\", \"1685\", \"1718\"]\n",
    "    \n",
    "    train_test_id_split_dict = {\"attr_key\": \"individual\",\n",
    "                                \"train\": train_ids+eval_ids,\n",
    "                                \"test\": test_ids}\n",
    "\n",
    "    train_valid_id_split_dict = {\"attr_key\": \"individual\",\n",
    "                            \"train\": train_ids,\n",
    "                            \"eval\": eval_ids}\n",
    "    \n",
    "elif TASK == \"dosage_sensitivity\" and DATASET == \"genecorpus_dosage_sensitivity\":\n",
    "    input_data_file = os.path.join(DATASET_PATH, \"gc-30M_sample50k.dataset\")"
   ]
  },
  {
   "cell_type": "code",
   "execution_count": 7,
   "id": "ef328cbb",
   "metadata": {},
   "outputs": [
    {
     "data": {
      "text/plain": [
       "'/hpcfs/groups/phoenix-hpc-mangiola_laboratory/haroon/geneformer/datasets/dosage_sensitivity/genecorpus_dosage_sensitivity/gc-30M_sample50k.dataset'"
      ]
     },
     "execution_count": 7,
     "metadata": {},
     "output_type": "execute_result"
    }
   ],
   "source": [
    "input_data_file"
   ]
  },
  {
   "cell_type": "code",
   "execution_count": 8,
   "id": "ca2e7304",
   "metadata": {},
   "outputs": [],
   "source": [
    "# training_args = {\n",
    "#     \"num_train_epochs\": 10,\n",
    "#     \"learning_rate\": 0.000804,\n",
    "#     \"lr_scheduler_type\": \"polynomial\",\n",
    "#     \"warmup_steps\": 1812,\n",
    "#     \"weight_decay\":0.258828,\n",
    "#     \"per_device_train_batch_size\": 128,\n",
    "#     \"seed\": 73,\n",
    "#     # \"load_best_model_at_end\": True, # Not required for k-fold cross-validation\n",
    "#     # \"logging_dir\": os.path.normpath(\"D:/geneformer_finetuning/trained_cell_classification_models/disease_classification/genecorpus_heart_disease/30M_metacell_8/250623_geneformer_cellClassifier_genecorpus_heart_disease_test/ksplit1/runs\"),\n",
    "# }\n",
    "\n",
    "training_args = {\n",
    "    \"num_train_epochs\": 10,\n",
    "    \"learning_rate\": 0.000804,\n",
    "    \"lr_scheduler_type\": \"polynomial\",\n",
    "    \"warmup_steps\": 1812,\n",
    "    \"weight_decay\":0.258828,\n",
    "    \"per_device_train_batch_size\": 128,\n",
    "    \"seed\": 73,\n",
    "    \"evaluation_strategy\":\"epoch\",        # Evaluate every epoch\n",
    "    \"save_strategy\":\"epoch\",              # Save checkpoint every epoch\n",
    "    \"metric_for_best_model\":\"eval_loss\",  # Metric to determine \"best\" model\n",
    "    \"greater_is_better\":False,            # For loss, lower is better\n",
    "    \"load_best_model_at_end\":True,        # KEY: Load best model at the end\n",
    "    \"save_total_limit\":3,                 # Keep only 3 best checkpoints\n",
    "    # \"logging_dir\": os.path.normpath(\"D:/geneformer_finetuning/trained_cell_classification_models/disease_classification/genecorpus_heart_disease/30M_metacell_8/250623_geneformer_cellClassifier_genecorpus_heart_disease_test/ksplit1/runs\"),\n",
    "}"
   ]
  },
  {
   "cell_type": "code",
   "execution_count": 9,
   "id": "c8ba55ca-ec87-4c64-9fb3-3d2b01588d8d",
   "metadata": {},
   "outputs": [],
   "source": [
    "# OF NOTE: token_dictionary_file must be set to the gc-30M token dictionary if using a 30M series model\n",
    "# (otherwise the Classifier will use the current default model dictionary)\n",
    "# 30M token dictionary: https://huggingface.co/ctheodoris/Geneformer/blob/main/geneformer/gene_dictionaries_30m/token_dictionary_gc30M.pkl\n",
    "cc = Classifier(classifier=classifier_type,\n",
    "                gene_class_dict = gene_class_dict,\n",
    "                max_ncells = None, # Set to None for no limit on number of cells\n",
    "                freeze_layers = 4,\n",
    "                num_crossval_splits = 5,\n",
    "                forward_batch_size=200,\n",
    "                token_dictionary_file = TOKEN_DICTIONARY_FILE,\n",
    "                nproc=16,\n",
    "                training_args=training_args)"
   ]
  },
  {
   "cell_type": "code",
   "execution_count": 10,
   "id": "142601f5",
   "metadata": {},
   "outputs": [],
   "source": [
    "output_prefix = DATASET + \"_test\"\n"
   ]
  },
  {
   "cell_type": "code",
   "execution_count": 11,
   "id": "eb5fff72",
   "metadata": {},
   "outputs": [],
   "source": [
    "# Example input_data_file for 30M model series: https://huggingface.co/datasets/ctheodoris/Genecorpus-30M/tree/main/example_input_files/gene_classification/dosage_sensitive_tfs/gc-30M_sample50k.dataset\n",
    "cc.prepare_data(input_data_file=input_data_file,\n",
    "                output_directory=output_dir,\n",
    "                output_prefix=output_prefix)"
   ]
  },
  {
   "cell_type": "code",
   "execution_count": 12,
   "id": "5f5f0914",
   "metadata": {},
   "outputs": [
    {
     "data": {
      "text/plain": [
       "'/hpcfs/groups/phoenix-hpc-mangiola_laboratory/haroon/geneformer/trained_gene_classification_models/dosage_sensitivity/genecorpus_dosage_sensitivity/30M_metacell_2'"
      ]
     },
     "execution_count": 12,
     "metadata": {},
     "output_type": "execute_result"
    }
   ],
   "source": [
    "output_dir"
   ]
  },
  {
   "cell_type": "code",
   "execution_count": 13,
   "id": "5eb91b96-b008-498e-85cb-5008168e582f",
   "metadata": {},
   "outputs": [
    {
     "name": "stdout",
     "output_type": "stream",
     "text": [
      "⚠ Final model folder exists but appears empty: /hpcfs/groups/phoenix-hpc-mangiola_laboratory/haroon/geneformer/trained_foundation_models/models/30M_AGGmetacell_2_6_emb256_SL2048_E2_B12_LR0.001_LSlinear_WU10000_Oadamw/final_trained_model/metacell_2\n",
      "✓ Using most recent checkpoint: /hpcfs/groups/phoenix-hpc-mangiola_laboratory/haroon/geneformer/trained_foundation_models/models/30M_AGGmetacell_2_6_emb256_SL2048_E2_B12_LR0.001_LSlinear_WU10000_Oadamw/checkpoint-533301 (step 533301)\n",
      "Final pretrained model path: /hpcfs/groups/phoenix-hpc-mangiola_laboratory/haroon/geneformer/trained_foundation_models/models/30M_AGGmetacell_2_6_emb256_SL2048_E2_B12_LR0.001_LSlinear_WU10000_Oadamw/checkpoint-533301\n"
     ]
    }
   ],
   "source": [
    "import os\n",
    "import glob\n",
    "\n",
    "# Base path\n",
    "pretrained_model_path = os.path.join(BASE_DIR, \"trained_foundation_models\", \"models\", \n",
    "                                   f\"30M_AGG{AGGREGATION_LEVEL}_6_emb256_SL2048_E2_B12_LR0.001_LSlinear_WU10000_Oadamw\")\n",
    "\n",
    "# Check if final_trained_model subfolder exists\n",
    "final_model_path = os.path.join(pretrained_model_path, \"final_trained_model\", AGGREGATION_LEVEL)\n",
    "final_model_path_empty = False\n",
    "\n",
    "if os.path.exists(final_model_path) and os.path.isdir(final_model_path):\n",
    "    # Check if the folder has model files (not just empty)\n",
    "    model_files = glob.glob(os.path.join(final_model_path, \"*.bin\")) + \\\n",
    "                  glob.glob(os.path.join(final_model_path, \"*.safetensors\")) + \\\n",
    "                  glob.glob(os.path.join(final_model_path, \"config.json\"))\n",
    "    \n",
    "    if model_files:\n",
    "        pretrained_model_path = final_model_path\n",
    "        print(f\"✓ Using final trained model: {pretrained_model_path}\")\n",
    "    else:\n",
    "        print(f\"⚠ Final model folder exists but appears empty: {final_model_path}\")\n",
    "        final_model_path_empty = True\n",
    "        # Fall through to checkpoint search\n",
    "else:\n",
    "    print(f\"ℹ Final model folder not found: {final_model_path}\")\n",
    "\n",
    "# If final model not found or empty, find most recent checkpoint\n",
    "if not (os.path.exists(final_model_path)) or final_model_path_empty:\n",
    "    # Find all checkpoint folders\n",
    "    checkpoint_pattern = os.path.join(pretrained_model_path, \"checkpoint-*\")\n",
    "    checkpoint_folders = glob.glob(checkpoint_pattern)\n",
    "    \n",
    "    if checkpoint_folders:\n",
    "        # Extract checkpoint numbers and find the highest one\n",
    "        checkpoint_numbers = []\n",
    "        for folder in checkpoint_folders:\n",
    "            folder_name = os.path.basename(folder)\n",
    "            if folder_name.startswith(\"checkpoint-\"):\n",
    "                try:\n",
    "                    checkpoint_num = int(folder_name.split(\"-\")[1])\n",
    "                    checkpoint_numbers.append((checkpoint_num, folder))\n",
    "                except ValueError:\n",
    "                    continue\n",
    "        \n",
    "        if checkpoint_numbers:\n",
    "            # Sort by checkpoint number and get the highest one\n",
    "            most_recent_checkpoint = max(checkpoint_numbers, key=lambda x: x[0])\n",
    "            pretrained_model_path = most_recent_checkpoint[1]\n",
    "            print(f\"✓ Using most recent checkpoint: {pretrained_model_path} (step {most_recent_checkpoint[0]})\")\n",
    "        else:\n",
    "            print(f\"❌ No valid checkpoint folders found in: {pretrained_model_path}\")\n",
    "            raise FileNotFoundError(f\"No trained model or checkpoints found in {pretrained_model_path}\")\n",
    "    else:\n",
    "        print(f\"❌ No checkpoint folders found in: {pretrained_model_path}\")\n",
    "        raise FileNotFoundError(f\"No trained model or checkpoints found in {pretrained_model_path}\")\n",
    "\n",
    "print(f\"Final pretrained model path: {pretrained_model_path}\")"
   ]
  },
  {
   "cell_type": "code",
   "execution_count": 14,
   "id": "36d1d017",
   "metadata": {},
   "outputs": [
    {
     "data": {
      "application/vnd.jupyter.widget-view+json": {
       "model_id": "f1771c8be49441e5887f5cb430cfb9a8",
       "version_major": 2,
       "version_minor": 0
      },
      "text/plain": [
       "0it [00:00, ?it/s]"
      ]
     },
     "metadata": {},
     "output_type": "display_data"
    },
    {
     "name": "stdout",
     "output_type": "stream",
     "text": [
      "****** Validation split: 1/5 ******\n",
      "\n"
     ]
    },
    {
     "name": "stderr",
     "output_type": "stream",
     "text": [
      "Some weights of BertForTokenClassification were not initialized from the model checkpoint at /hpcfs/groups/phoenix-hpc-mangiola_laboratory/haroon/geneformer/trained_foundation_models/models/30M_AGGmetacell_2_6_emb256_SL2048_E2_B12_LR0.001_LSlinear_WU10000_Oadamw/checkpoint-533301 and are newly initialized: ['classifier.bias', 'classifier.weight']\n",
      "You should probably TRAIN this model on a down-stream task to be able to use it for predictions and inference.\n",
      "Detected kernel version 4.18.0, which is below the recommended minimum of 5.5.0; this can cause the process to hang. It is recommended to upgrade the kernel to the minimum version or higher.\n",
      "/home/a1236507/anaconda3/envs/geneformer/lib/python3.11/site-packages/geneformer/collator_for_classification.py:644: UserWarning: To copy construct from a tensor, it is recommended to use sourceTensor.clone().detach() or sourceTensor.clone().detach().requires_grad_(True), rather than torch.tensor(sourceTensor).\n",
      "  batch = {k: torch.tensor(v, dtype=torch.int64) for k, v in batch.items()}\n",
      "/home/a1236507/anaconda3/envs/geneformer/lib/python3.11/site-packages/torch/nn/parallel/_functions.py:70: UserWarning: Was asked to gather along dimension 0, but all input tensors were scalars; will instead unsqueeze and return a vector.\n",
      "  warnings.warn(\n"
     ]
    },
    {
     "data": {
      "text/html": [
       "\n",
       "    <div>\n",
       "      \n",
       "      <progress value='640' max='640' style='width:300px; height:20px; vertical-align: middle;'></progress>\n",
       "      [640/640 26:40, Epoch 10/10]\n",
       "    </div>\n",
       "    <table border=\"1\" class=\"dataframe\">\n",
       "  <thead>\n",
       " <tr style=\"text-align: left;\">\n",
       "      <th>Epoch</th>\n",
       "      <th>Training Loss</th>\n",
       "      <th>Validation Loss</th>\n",
       "      <th>Accuracy</th>\n",
       "      <th>Macro F1</th>\n",
       "    </tr>\n",
       "  </thead>\n",
       "  <tbody>\n",
       "    <tr>\n",
       "      <td>1</td>\n",
       "      <td>0.729500</td>\n",
       "      <td>0.598352</td>\n",
       "      <td>0.716475</td>\n",
       "      <td>0.714666</td>\n",
       "    </tr>\n",
       "    <tr>\n",
       "      <td>2</td>\n",
       "      <td>0.389000</td>\n",
       "      <td>0.302641</td>\n",
       "      <td>0.881955</td>\n",
       "      <td>0.881844</td>\n",
       "    </tr>\n",
       "    <tr>\n",
       "      <td>3</td>\n",
       "      <td>0.125700</td>\n",
       "      <td>0.220654</td>\n",
       "      <td>0.919751</td>\n",
       "      <td>0.919716</td>\n",
       "    </tr>\n",
       "    <tr>\n",
       "      <td>4</td>\n",
       "      <td>0.029400</td>\n",
       "      <td>0.249514</td>\n",
       "      <td>0.929716</td>\n",
       "      <td>0.929702</td>\n",
       "    </tr>\n",
       "    <tr>\n",
       "      <td>5</td>\n",
       "      <td>0.014600</td>\n",
       "      <td>0.273275</td>\n",
       "      <td>0.929138</td>\n",
       "      <td>0.929066</td>\n",
       "    </tr>\n",
       "    <tr>\n",
       "      <td>6</td>\n",
       "      <td>0.007300</td>\n",
       "      <td>0.296715</td>\n",
       "      <td>0.932761</td>\n",
       "      <td>0.932746</td>\n",
       "    </tr>\n",
       "    <tr>\n",
       "      <td>7</td>\n",
       "      <td>0.005200</td>\n",
       "      <td>0.324849</td>\n",
       "      <td>0.929339</td>\n",
       "      <td>0.929329</td>\n",
       "    </tr>\n",
       "    <tr>\n",
       "      <td>8</td>\n",
       "      <td>0.003500</td>\n",
       "      <td>0.338047</td>\n",
       "      <td>0.930622</td>\n",
       "      <td>0.930620</td>\n",
       "    </tr>\n",
       "    <tr>\n",
       "      <td>9</td>\n",
       "      <td>0.002200</td>\n",
       "      <td>0.366534</td>\n",
       "      <td>0.931251</td>\n",
       "      <td>0.931250</td>\n",
       "    </tr>\n",
       "    <tr>\n",
       "      <td>10</td>\n",
       "      <td>0.001700</td>\n",
       "      <td>0.403581</td>\n",
       "      <td>0.920506</td>\n",
       "      <td>0.920351</td>\n",
       "    </tr>\n",
       "  </tbody>\n",
       "</table><p>"
      ],
      "text/plain": [
       "<IPython.core.display.HTML object>"
      ]
     },
     "metadata": {},
     "output_type": "display_data"
    },
    {
     "name": "stderr",
     "output_type": "stream",
     "text": [
      "/home/a1236507/anaconda3/envs/geneformer/lib/python3.11/site-packages/geneformer/collator_for_classification.py:644: UserWarning: To copy construct from a tensor, it is recommended to use sourceTensor.clone().detach() or sourceTensor.clone().detach().requires_grad_(True), rather than torch.tensor(sourceTensor).\n",
      "  batch = {k: torch.tensor(v, dtype=torch.int64) for k, v in batch.items()}\n",
      "/home/a1236507/anaconda3/envs/geneformer/lib/python3.11/site-packages/torch/nn/parallel/_functions.py:70: UserWarning: Was asked to gather along dimension 0, but all input tensors were scalars; will instead unsqueeze and return a vector.\n",
      "  warnings.warn(\n",
      "/home/a1236507/anaconda3/envs/geneformer/lib/python3.11/site-packages/geneformer/collator_for_classification.py:644: UserWarning: To copy construct from a tensor, it is recommended to use sourceTensor.clone().detach() or sourceTensor.clone().detach().requires_grad_(True), rather than torch.tensor(sourceTensor).\n",
      "  batch = {k: torch.tensor(v, dtype=torch.int64) for k, v in batch.items()}\n",
      "/home/a1236507/anaconda3/envs/geneformer/lib/python3.11/site-packages/torch/nn/parallel/_functions.py:70: UserWarning: Was asked to gather along dimension 0, but all input tensors were scalars; will instead unsqueeze and return a vector.\n",
      "  warnings.warn(\n",
      "/home/a1236507/anaconda3/envs/geneformer/lib/python3.11/site-packages/geneformer/collator_for_classification.py:644: UserWarning: To copy construct from a tensor, it is recommended to use sourceTensor.clone().detach() or sourceTensor.clone().detach().requires_grad_(True), rather than torch.tensor(sourceTensor).\n",
      "  batch = {k: torch.tensor(v, dtype=torch.int64) for k, v in batch.items()}\n",
      "/home/a1236507/anaconda3/envs/geneformer/lib/python3.11/site-packages/torch/nn/parallel/_functions.py:70: UserWarning: Was asked to gather along dimension 0, but all input tensors were scalars; will instead unsqueeze and return a vector.\n",
      "  warnings.warn(\n",
      "/home/a1236507/anaconda3/envs/geneformer/lib/python3.11/site-packages/geneformer/collator_for_classification.py:644: UserWarning: To copy construct from a tensor, it is recommended to use sourceTensor.clone().detach() or sourceTensor.clone().detach().requires_grad_(True), rather than torch.tensor(sourceTensor).\n",
      "  batch = {k: torch.tensor(v, dtype=torch.int64) for k, v in batch.items()}\n",
      "/home/a1236507/anaconda3/envs/geneformer/lib/python3.11/site-packages/torch/nn/parallel/_functions.py:70: UserWarning: Was asked to gather along dimension 0, but all input tensors were scalars; will instead unsqueeze and return a vector.\n",
      "  warnings.warn(\n",
      "/home/a1236507/anaconda3/envs/geneformer/lib/python3.11/site-packages/geneformer/collator_for_classification.py:644: UserWarning: To copy construct from a tensor, it is recommended to use sourceTensor.clone().detach() or sourceTensor.clone().detach().requires_grad_(True), rather than torch.tensor(sourceTensor).\n",
      "  batch = {k: torch.tensor(v, dtype=torch.int64) for k, v in batch.items()}\n",
      "/home/a1236507/anaconda3/envs/geneformer/lib/python3.11/site-packages/torch/nn/parallel/_functions.py:70: UserWarning: Was asked to gather along dimension 0, but all input tensors were scalars; will instead unsqueeze and return a vector.\n",
      "  warnings.warn(\n",
      "/home/a1236507/anaconda3/envs/geneformer/lib/python3.11/site-packages/geneformer/collator_for_classification.py:644: UserWarning: To copy construct from a tensor, it is recommended to use sourceTensor.clone().detach() or sourceTensor.clone().detach().requires_grad_(True), rather than torch.tensor(sourceTensor).\n",
      "  batch = {k: torch.tensor(v, dtype=torch.int64) for k, v in batch.items()}\n",
      "/home/a1236507/anaconda3/envs/geneformer/lib/python3.11/site-packages/torch/nn/parallel/_functions.py:70: UserWarning: Was asked to gather along dimension 0, but all input tensors were scalars; will instead unsqueeze and return a vector.\n",
      "  warnings.warn(\n",
      "/home/a1236507/anaconda3/envs/geneformer/lib/python3.11/site-packages/geneformer/collator_for_classification.py:644: UserWarning: To copy construct from a tensor, it is recommended to use sourceTensor.clone().detach() or sourceTensor.clone().detach().requires_grad_(True), rather than torch.tensor(sourceTensor).\n",
      "  batch = {k: torch.tensor(v, dtype=torch.int64) for k, v in batch.items()}\n",
      "/home/a1236507/anaconda3/envs/geneformer/lib/python3.11/site-packages/torch/nn/parallel/_functions.py:70: UserWarning: Was asked to gather along dimension 0, but all input tensors were scalars; will instead unsqueeze and return a vector.\n",
      "  warnings.warn(\n",
      "/home/a1236507/anaconda3/envs/geneformer/lib/python3.11/site-packages/geneformer/collator_for_classification.py:644: UserWarning: To copy construct from a tensor, it is recommended to use sourceTensor.clone().detach() or sourceTensor.clone().detach().requires_grad_(True), rather than torch.tensor(sourceTensor).\n",
      "  batch = {k: torch.tensor(v, dtype=torch.int64) for k, v in batch.items()}\n",
      "/home/a1236507/anaconda3/envs/geneformer/lib/python3.11/site-packages/torch/nn/parallel/_functions.py:70: UserWarning: Was asked to gather along dimension 0, but all input tensors were scalars; will instead unsqueeze and return a vector.\n",
      "  warnings.warn(\n",
      "/home/a1236507/anaconda3/envs/geneformer/lib/python3.11/site-packages/geneformer/collator_for_classification.py:644: UserWarning: To copy construct from a tensor, it is recommended to use sourceTensor.clone().detach() or sourceTensor.clone().detach().requires_grad_(True), rather than torch.tensor(sourceTensor).\n",
      "  batch = {k: torch.tensor(v, dtype=torch.int64) for k, v in batch.items()}\n",
      "/home/a1236507/anaconda3/envs/geneformer/lib/python3.11/site-packages/torch/nn/parallel/_functions.py:70: UserWarning: Was asked to gather along dimension 0, but all input tensors were scalars; will instead unsqueeze and return a vector.\n",
      "  warnings.warn(\n",
      "/home/a1236507/anaconda3/envs/geneformer/lib/python3.11/site-packages/geneformer/collator_for_classification.py:644: UserWarning: To copy construct from a tensor, it is recommended to use sourceTensor.clone().detach() or sourceTensor.clone().detach().requires_grad_(True), rather than torch.tensor(sourceTensor).\n",
      "  batch = {k: torch.tensor(v, dtype=torch.int64) for k, v in batch.items()}\n",
      "/home/a1236507/anaconda3/envs/geneformer/lib/python3.11/site-packages/torch/nn/parallel/_functions.py:70: UserWarning: Was asked to gather along dimension 0, but all input tensors were scalars; will instead unsqueeze and return a vector.\n",
      "  warnings.warn(\n"
     ]
    },
    {
     "data": {
      "application/vnd.jupyter.widget-view+json": {
       "model_id": "b207f3d2150d4f578dded6dc34e1c277",
       "version_major": 2,
       "version_minor": 0
      },
      "text/plain": [
       "  0%|          | 0/98 [00:00<?, ?it/s]"
      ]
     },
     "metadata": {},
     "output_type": "display_data"
    },
    {
     "name": "stdout",
     "output_type": "stream",
     "text": [
      "****** Validation split: 2/5 ******\n",
      "\n"
     ]
    },
    {
     "data": {
      "application/vnd.jupyter.widget-view+json": {
       "model_id": "a5849430a14048329d23cddbc3f58b41",
       "version_major": 2,
       "version_minor": 0
      },
      "text/plain": [
       "Filter (num_proc=16):   0%|          | 0/33558 [00:00<?, ? examples/s]"
      ]
     },
     "metadata": {},
     "output_type": "display_data"
    },
    {
     "data": {
      "application/vnd.jupyter.widget-view+json": {
       "model_id": "74078133b20c47589e1a95c5820e249d",
       "version_major": 2,
       "version_minor": 0
      },
      "text/plain": [
       "Map (num_proc=16):   0%|          | 0/32175 [00:00<?, ? examples/s]"
      ]
     },
     "metadata": {},
     "output_type": "display_data"
    },
    {
     "data": {
      "application/vnd.jupyter.widget-view+json": {
       "model_id": "c7ad40f7aa274469b9a1e60d083682cd",
       "version_major": 2,
       "version_minor": 0
      },
      "text/plain": [
       "Filter (num_proc=16):   0%|          | 0/33558 [00:00<?, ? examples/s]"
      ]
     },
     "metadata": {},
     "output_type": "display_data"
    },
    {
     "data": {
      "application/vnd.jupyter.widget-view+json": {
       "model_id": "51bcbc58343141ca943fb7083bcbfe8e",
       "version_major": 2,
       "version_minor": 0
      },
      "text/plain": [
       "Map (num_proc=16):   0%|          | 0/20672 [00:00<?, ? examples/s]"
      ]
     },
     "metadata": {},
     "output_type": "display_data"
    },
    {
     "data": {
      "application/vnd.jupyter.widget-view+json": {
       "model_id": "0033dbfca1084a7a976ef084c0f1a6d5",
       "version_major": 2,
       "version_minor": 0
      },
      "text/plain": [
       "Saving the dataset (0/1 shards):   0%|          | 0/32175 [00:00<?, ? examples/s]"
      ]
     },
     "metadata": {},
     "output_type": "display_data"
    },
    {
     "data": {
      "application/vnd.jupyter.widget-view+json": {
       "model_id": "8150124abce54aa2b0bad318e2e3a65a",
       "version_major": 2,
       "version_minor": 0
      },
      "text/plain": [
       "Saving the dataset (0/1 shards):   0%|          | 0/20672 [00:00<?, ? examples/s]"
      ]
     },
     "metadata": {},
     "output_type": "display_data"
    },
    {
     "data": {
      "application/vnd.jupyter.widget-view+json": {
       "model_id": "967dabe4073a43c3a5357d99d21b1bcd",
       "version_major": 2,
       "version_minor": 0
      },
      "text/plain": [
       "Filter (num_proc=16):   0%|          | 0/33558 [00:00<?, ? examples/s]"
      ]
     },
     "metadata": {},
     "output_type": "display_data"
    },
    {
     "data": {
      "application/vnd.jupyter.widget-view+json": {
       "model_id": "1422c7aee95c435b8df83ac07d0e2d7d",
       "version_major": 2,
       "version_minor": 0
      },
      "text/plain": [
       "Map (num_proc=16):   0%|          | 0/16689 [00:00<?, ? examples/s]"
      ]
     },
     "metadata": {},
     "output_type": "display_data"
    },
    {
     "data": {
      "application/vnd.jupyter.widget-view+json": {
       "model_id": "123984f56dea4d288d663a9cda5329ac",
       "version_major": 2,
       "version_minor": 0
      },
      "text/plain": [
       "Saving the dataset (0/1 shards):   0%|          | 0/16689 [00:00<?, ? examples/s]"
      ]
     },
     "metadata": {},
     "output_type": "display_data"
    },
    {
     "name": "stderr",
     "output_type": "stream",
     "text": [
      "Some weights of BertForTokenClassification were not initialized from the model checkpoint at /hpcfs/groups/phoenix-hpc-mangiola_laboratory/haroon/geneformer/trained_foundation_models/models/30M_AGGmetacell_2_6_emb256_SL2048_E2_B12_LR0.001_LSlinear_WU10000_Oadamw/checkpoint-533301 and are newly initialized: ['classifier.bias', 'classifier.weight']\n",
      "You should probably TRAIN this model on a down-stream task to be able to use it for predictions and inference.\n",
      "Detected kernel version 4.18.0, which is below the recommended minimum of 5.5.0; this can cause the process to hang. It is recommended to upgrade the kernel to the minimum version or higher.\n",
      "/home/a1236507/anaconda3/envs/geneformer/lib/python3.11/site-packages/geneformer/collator_for_classification.py:644: UserWarning: To copy construct from a tensor, it is recommended to use sourceTensor.clone().detach() or sourceTensor.clone().detach().requires_grad_(True), rather than torch.tensor(sourceTensor).\n",
      "  batch = {k: torch.tensor(v, dtype=torch.int64) for k, v in batch.items()}\n",
      "/home/a1236507/anaconda3/envs/geneformer/lib/python3.11/site-packages/torch/nn/parallel/_functions.py:70: UserWarning: Was asked to gather along dimension 0, but all input tensors were scalars; will instead unsqueeze and return a vector.\n",
      "  warnings.warn(\n"
     ]
    },
    {
     "data": {
      "text/html": [
       "\n",
       "    <div>\n",
       "      \n",
       "      <progress value='630' max='630' style='width:300px; height:20px; vertical-align: middle;'></progress>\n",
       "      [630/630 27:05, Epoch 10/10]\n",
       "    </div>\n",
       "    <table border=\"1\" class=\"dataframe\">\n",
       "  <thead>\n",
       " <tr style=\"text-align: left;\">\n",
       "      <th>Epoch</th>\n",
       "      <th>Training Loss</th>\n",
       "      <th>Validation Loss</th>\n",
       "      <th>Accuracy</th>\n",
       "      <th>Macro F1</th>\n",
       "    </tr>\n",
       "  </thead>\n",
       "  <tbody>\n",
       "    <tr>\n",
       "      <td>1</td>\n",
       "      <td>0.693200</td>\n",
       "      <td>0.595955</td>\n",
       "      <td>0.713991</td>\n",
       "      <td>0.710056</td>\n",
       "    </tr>\n",
       "    <tr>\n",
       "      <td>2</td>\n",
       "      <td>0.315400</td>\n",
       "      <td>0.387968</td>\n",
       "      <td>0.827846</td>\n",
       "      <td>0.827839</td>\n",
       "    </tr>\n",
       "    <tr>\n",
       "      <td>3</td>\n",
       "      <td>0.093600</td>\n",
       "      <td>0.739190</td>\n",
       "      <td>0.808189</td>\n",
       "      <td>0.808149</td>\n",
       "    </tr>\n",
       "    <tr>\n",
       "      <td>4</td>\n",
       "      <td>0.020900</td>\n",
       "      <td>0.918451</td>\n",
       "      <td>0.814691</td>\n",
       "      <td>0.814677</td>\n",
       "    </tr>\n",
       "    <tr>\n",
       "      <td>5</td>\n",
       "      <td>0.011100</td>\n",
       "      <td>1.007242</td>\n",
       "      <td>0.817909</td>\n",
       "      <td>0.817894</td>\n",
       "    </tr>\n",
       "    <tr>\n",
       "      <td>6</td>\n",
       "      <td>0.006100</td>\n",
       "      <td>1.132073</td>\n",
       "      <td>0.810298</td>\n",
       "      <td>0.810178</td>\n",
       "    </tr>\n",
       "    <tr>\n",
       "      <td>7</td>\n",
       "      <td>0.004000</td>\n",
       "      <td>1.064749</td>\n",
       "      <td>0.825172</td>\n",
       "      <td>0.825168</td>\n",
       "    </tr>\n",
       "    <tr>\n",
       "      <td>8</td>\n",
       "      <td>0.002600</td>\n",
       "      <td>1.135614</td>\n",
       "      <td>0.825476</td>\n",
       "      <td>0.825476</td>\n",
       "    </tr>\n",
       "    <tr>\n",
       "      <td>9</td>\n",
       "      <td>0.001900</td>\n",
       "      <td>1.211961</td>\n",
       "      <td>0.820301</td>\n",
       "      <td>0.820259</td>\n",
       "    </tr>\n",
       "    <tr>\n",
       "      <td>10</td>\n",
       "      <td>0.001300</td>\n",
       "      <td>1.241429</td>\n",
       "      <td>0.823845</td>\n",
       "      <td>0.823838</td>\n",
       "    </tr>\n",
       "  </tbody>\n",
       "</table><p>"
      ],
      "text/plain": [
       "<IPython.core.display.HTML object>"
      ]
     },
     "metadata": {},
     "output_type": "display_data"
    },
    {
     "name": "stderr",
     "output_type": "stream",
     "text": [
      "/home/a1236507/anaconda3/envs/geneformer/lib/python3.11/site-packages/geneformer/collator_for_classification.py:644: UserWarning: To copy construct from a tensor, it is recommended to use sourceTensor.clone().detach() or sourceTensor.clone().detach().requires_grad_(True), rather than torch.tensor(sourceTensor).\n",
      "  batch = {k: torch.tensor(v, dtype=torch.int64) for k, v in batch.items()}\n",
      "/home/a1236507/anaconda3/envs/geneformer/lib/python3.11/site-packages/torch/nn/parallel/_functions.py:70: UserWarning: Was asked to gather along dimension 0, but all input tensors were scalars; will instead unsqueeze and return a vector.\n",
      "  warnings.warn(\n",
      "/home/a1236507/anaconda3/envs/geneformer/lib/python3.11/site-packages/geneformer/collator_for_classification.py:644: UserWarning: To copy construct from a tensor, it is recommended to use sourceTensor.clone().detach() or sourceTensor.clone().detach().requires_grad_(True), rather than torch.tensor(sourceTensor).\n",
      "  batch = {k: torch.tensor(v, dtype=torch.int64) for k, v in batch.items()}\n",
      "/home/a1236507/anaconda3/envs/geneformer/lib/python3.11/site-packages/torch/nn/parallel/_functions.py:70: UserWarning: Was asked to gather along dimension 0, but all input tensors were scalars; will instead unsqueeze and return a vector.\n",
      "  warnings.warn(\n",
      "/home/a1236507/anaconda3/envs/geneformer/lib/python3.11/site-packages/geneformer/collator_for_classification.py:644: UserWarning: To copy construct from a tensor, it is recommended to use sourceTensor.clone().detach() or sourceTensor.clone().detach().requires_grad_(True), rather than torch.tensor(sourceTensor).\n",
      "  batch = {k: torch.tensor(v, dtype=torch.int64) for k, v in batch.items()}\n",
      "/home/a1236507/anaconda3/envs/geneformer/lib/python3.11/site-packages/torch/nn/parallel/_functions.py:70: UserWarning: Was asked to gather along dimension 0, but all input tensors were scalars; will instead unsqueeze and return a vector.\n",
      "  warnings.warn(\n",
      "/home/a1236507/anaconda3/envs/geneformer/lib/python3.11/site-packages/geneformer/collator_for_classification.py:644: UserWarning: To copy construct from a tensor, it is recommended to use sourceTensor.clone().detach() or sourceTensor.clone().detach().requires_grad_(True), rather than torch.tensor(sourceTensor).\n",
      "  batch = {k: torch.tensor(v, dtype=torch.int64) for k, v in batch.items()}\n",
      "/home/a1236507/anaconda3/envs/geneformer/lib/python3.11/site-packages/torch/nn/parallel/_functions.py:70: UserWarning: Was asked to gather along dimension 0, but all input tensors were scalars; will instead unsqueeze and return a vector.\n",
      "  warnings.warn(\n",
      "/home/a1236507/anaconda3/envs/geneformer/lib/python3.11/site-packages/geneformer/collator_for_classification.py:644: UserWarning: To copy construct from a tensor, it is recommended to use sourceTensor.clone().detach() or sourceTensor.clone().detach().requires_grad_(True), rather than torch.tensor(sourceTensor).\n",
      "  batch = {k: torch.tensor(v, dtype=torch.int64) for k, v in batch.items()}\n",
      "/home/a1236507/anaconda3/envs/geneformer/lib/python3.11/site-packages/torch/nn/parallel/_functions.py:70: UserWarning: Was asked to gather along dimension 0, but all input tensors were scalars; will instead unsqueeze and return a vector.\n",
      "  warnings.warn(\n",
      "/home/a1236507/anaconda3/envs/geneformer/lib/python3.11/site-packages/geneformer/collator_for_classification.py:644: UserWarning: To copy construct from a tensor, it is recommended to use sourceTensor.clone().detach() or sourceTensor.clone().detach().requires_grad_(True), rather than torch.tensor(sourceTensor).\n",
      "  batch = {k: torch.tensor(v, dtype=torch.int64) for k, v in batch.items()}\n",
      "/home/a1236507/anaconda3/envs/geneformer/lib/python3.11/site-packages/torch/nn/parallel/_functions.py:70: UserWarning: Was asked to gather along dimension 0, but all input tensors were scalars; will instead unsqueeze and return a vector.\n",
      "  warnings.warn(\n",
      "/home/a1236507/anaconda3/envs/geneformer/lib/python3.11/site-packages/geneformer/collator_for_classification.py:644: UserWarning: To copy construct from a tensor, it is recommended to use sourceTensor.clone().detach() or sourceTensor.clone().detach().requires_grad_(True), rather than torch.tensor(sourceTensor).\n",
      "  batch = {k: torch.tensor(v, dtype=torch.int64) for k, v in batch.items()}\n",
      "/home/a1236507/anaconda3/envs/geneformer/lib/python3.11/site-packages/torch/nn/parallel/_functions.py:70: UserWarning: Was asked to gather along dimension 0, but all input tensors were scalars; will instead unsqueeze and return a vector.\n",
      "  warnings.warn(\n",
      "/home/a1236507/anaconda3/envs/geneformer/lib/python3.11/site-packages/geneformer/collator_for_classification.py:644: UserWarning: To copy construct from a tensor, it is recommended to use sourceTensor.clone().detach() or sourceTensor.clone().detach().requires_grad_(True), rather than torch.tensor(sourceTensor).\n",
      "  batch = {k: torch.tensor(v, dtype=torch.int64) for k, v in batch.items()}\n",
      "/home/a1236507/anaconda3/envs/geneformer/lib/python3.11/site-packages/torch/nn/parallel/_functions.py:70: UserWarning: Was asked to gather along dimension 0, but all input tensors were scalars; will instead unsqueeze and return a vector.\n",
      "  warnings.warn(\n",
      "/home/a1236507/anaconda3/envs/geneformer/lib/python3.11/site-packages/geneformer/collator_for_classification.py:644: UserWarning: To copy construct from a tensor, it is recommended to use sourceTensor.clone().detach() or sourceTensor.clone().detach().requires_grad_(True), rather than torch.tensor(sourceTensor).\n",
      "  batch = {k: torch.tensor(v, dtype=torch.int64) for k, v in batch.items()}\n",
      "/home/a1236507/anaconda3/envs/geneformer/lib/python3.11/site-packages/torch/nn/parallel/_functions.py:70: UserWarning: Was asked to gather along dimension 0, but all input tensors were scalars; will instead unsqueeze and return a vector.\n",
      "  warnings.warn(\n",
      "/home/a1236507/anaconda3/envs/geneformer/lib/python3.11/site-packages/geneformer/collator_for_classification.py:644: UserWarning: To copy construct from a tensor, it is recommended to use sourceTensor.clone().detach() or sourceTensor.clone().detach().requires_grad_(True), rather than torch.tensor(sourceTensor).\n",
      "  batch = {k: torch.tensor(v, dtype=torch.int64) for k, v in batch.items()}\n",
      "/home/a1236507/anaconda3/envs/geneformer/lib/python3.11/site-packages/torch/nn/parallel/_functions.py:70: UserWarning: Was asked to gather along dimension 0, but all input tensors were scalars; will instead unsqueeze and return a vector.\n",
      "  warnings.warn(\n"
     ]
    },
    {
     "data": {
      "application/vnd.jupyter.widget-view+json": {
       "model_id": "f6200561b2614d2db9212bad5580a8f1",
       "version_major": 2,
       "version_minor": 0
      },
      "text/plain": [
       "  0%|          | 0/104 [00:00<?, ?it/s]"
      ]
     },
     "metadata": {},
     "output_type": "display_data"
    },
    {
     "name": "stdout",
     "output_type": "stream",
     "text": [
      "****** Validation split: 3/5 ******\n",
      "\n"
     ]
    },
    {
     "data": {
      "application/vnd.jupyter.widget-view+json": {
       "model_id": "8b0fe94a0e30491b9d1124c21df6d7d3",
       "version_major": 2,
       "version_minor": 0
      },
      "text/plain": [
       "Filter (num_proc=16):   0%|          | 0/33558 [00:00<?, ? examples/s]"
      ]
     },
     "metadata": {},
     "output_type": "display_data"
    },
    {
     "data": {
      "application/vnd.jupyter.widget-view+json": {
       "model_id": "df2e9cae1614452c9f944e97fb7fd66d",
       "version_major": 2,
       "version_minor": 0
      },
      "text/plain": [
       "Map (num_proc=16):   0%|          | 0/32232 [00:00<?, ? examples/s]"
      ]
     },
     "metadata": {},
     "output_type": "display_data"
    },
    {
     "data": {
      "application/vnd.jupyter.widget-view+json": {
       "model_id": "bd22c49ee92d451cadeb89570930312d",
       "version_major": 2,
       "version_minor": 0
      },
      "text/plain": [
       "Filter (num_proc=16):   0%|          | 0/33558 [00:00<?, ? examples/s]"
      ]
     },
     "metadata": {},
     "output_type": "display_data"
    },
    {
     "data": {
      "application/vnd.jupyter.widget-view+json": {
       "model_id": "4a88bcadeeb142fd9818e5d6123aeac7",
       "version_major": 2,
       "version_minor": 0
      },
      "text/plain": [
       "Map (num_proc=16):   0%|          | 0/21668 [00:00<?, ? examples/s]"
      ]
     },
     "metadata": {},
     "output_type": "display_data"
    },
    {
     "data": {
      "application/vnd.jupyter.widget-view+json": {
       "model_id": "ebe9e87f66d949e290f0034de29b2b6e",
       "version_major": 2,
       "version_minor": 0
      },
      "text/plain": [
       "Saving the dataset (0/1 shards):   0%|          | 0/32232 [00:00<?, ? examples/s]"
      ]
     },
     "metadata": {},
     "output_type": "display_data"
    },
    {
     "data": {
      "application/vnd.jupyter.widget-view+json": {
       "model_id": "d01c44e297c04feba882ccb5728e0d76",
       "version_major": 2,
       "version_minor": 0
      },
      "text/plain": [
       "Saving the dataset (0/1 shards):   0%|          | 0/21668 [00:00<?, ? examples/s]"
      ]
     },
     "metadata": {},
     "output_type": "display_data"
    },
    {
     "data": {
      "application/vnd.jupyter.widget-view+json": {
       "model_id": "36dce70b114c4425aa79a1d647f61d96",
       "version_major": 2,
       "version_minor": 0
      },
      "text/plain": [
       "Filter (num_proc=16):   0%|          | 0/33558 [00:00<?, ? examples/s]"
      ]
     },
     "metadata": {},
     "output_type": "display_data"
    },
    {
     "data": {
      "application/vnd.jupyter.widget-view+json": {
       "model_id": "471e64f5690047869146d4b0f666a10e",
       "version_major": 2,
       "version_minor": 0
      },
      "text/plain": [
       "Map (num_proc=16):   0%|          | 0/16596 [00:00<?, ? examples/s]"
      ]
     },
     "metadata": {},
     "output_type": "display_data"
    },
    {
     "data": {
      "application/vnd.jupyter.widget-view+json": {
       "model_id": "3430128057d643cca1f4b02605a17c23",
       "version_major": 2,
       "version_minor": 0
      },
      "text/plain": [
       "Saving the dataset (0/1 shards):   0%|          | 0/16596 [00:00<?, ? examples/s]"
      ]
     },
     "metadata": {},
     "output_type": "display_data"
    },
    {
     "name": "stderr",
     "output_type": "stream",
     "text": [
      "Some weights of BertForTokenClassification were not initialized from the model checkpoint at /hpcfs/groups/phoenix-hpc-mangiola_laboratory/haroon/geneformer/trained_foundation_models/models/30M_AGGmetacell_2_6_emb256_SL2048_E2_B12_LR0.001_LSlinear_WU10000_Oadamw/checkpoint-533301 and are newly initialized: ['classifier.bias', 'classifier.weight']\n",
      "You should probably TRAIN this model on a down-stream task to be able to use it for predictions and inference.\n",
      "Detected kernel version 4.18.0, which is below the recommended minimum of 5.5.0; this can cause the process to hang. It is recommended to upgrade the kernel to the minimum version or higher.\n",
      "/home/a1236507/anaconda3/envs/geneformer/lib/python3.11/site-packages/geneformer/collator_for_classification.py:644: UserWarning: To copy construct from a tensor, it is recommended to use sourceTensor.clone().detach() or sourceTensor.clone().detach().requires_grad_(True), rather than torch.tensor(sourceTensor).\n",
      "  batch = {k: torch.tensor(v, dtype=torch.int64) for k, v in batch.items()}\n",
      "/home/a1236507/anaconda3/envs/geneformer/lib/python3.11/site-packages/torch/nn/parallel/_functions.py:70: UserWarning: Was asked to gather along dimension 0, but all input tensors were scalars; will instead unsqueeze and return a vector.\n",
      "  warnings.warn(\n"
     ]
    },
    {
     "data": {
      "text/html": [
       "\n",
       "    <div>\n",
       "      \n",
       "      <progress value='630' max='630' style='width:300px; height:20px; vertical-align: middle;'></progress>\n",
       "      [630/630 27:34, Epoch 10/10]\n",
       "    </div>\n",
       "    <table border=\"1\" class=\"dataframe\">\n",
       "  <thead>\n",
       " <tr style=\"text-align: left;\">\n",
       "      <th>Epoch</th>\n",
       "      <th>Training Loss</th>\n",
       "      <th>Validation Loss</th>\n",
       "      <th>Accuracy</th>\n",
       "      <th>Macro F1</th>\n",
       "    </tr>\n",
       "  </thead>\n",
       "  <tbody>\n",
       "    <tr>\n",
       "      <td>1</td>\n",
       "      <td>0.683100</td>\n",
       "      <td>0.593436</td>\n",
       "      <td>0.726390</td>\n",
       "      <td>0.718734</td>\n",
       "    </tr>\n",
       "    <tr>\n",
       "      <td>2</td>\n",
       "      <td>0.332300</td>\n",
       "      <td>0.275349</td>\n",
       "      <td>0.912887</td>\n",
       "      <td>0.912478</td>\n",
       "    </tr>\n",
       "    <tr>\n",
       "      <td>3</td>\n",
       "      <td>0.116700</td>\n",
       "      <td>0.159209</td>\n",
       "      <td>0.936532</td>\n",
       "      <td>0.936487</td>\n",
       "    </tr>\n",
       "    <tr>\n",
       "      <td>4</td>\n",
       "      <td>0.026600</td>\n",
       "      <td>0.108440</td>\n",
       "      <td>0.956698</td>\n",
       "      <td>0.956659</td>\n",
       "    </tr>\n",
       "    <tr>\n",
       "      <td>5</td>\n",
       "      <td>0.014600</td>\n",
       "      <td>0.080376</td>\n",
       "      <td>0.968793</td>\n",
       "      <td>0.968774</td>\n",
       "    </tr>\n",
       "    <tr>\n",
       "      <td>6</td>\n",
       "      <td>0.007300</td>\n",
       "      <td>0.097859</td>\n",
       "      <td>0.963654</td>\n",
       "      <td>0.963651</td>\n",
       "    </tr>\n",
       "    <tr>\n",
       "      <td>7</td>\n",
       "      <td>0.005100</td>\n",
       "      <td>0.054797</td>\n",
       "      <td>0.981124</td>\n",
       "      <td>0.981109</td>\n",
       "    </tr>\n",
       "    <tr>\n",
       "      <td>8</td>\n",
       "      <td>0.003800</td>\n",
       "      <td>0.079177</td>\n",
       "      <td>0.971764</td>\n",
       "      <td>0.971762</td>\n",
       "    </tr>\n",
       "    <tr>\n",
       "      <td>9</td>\n",
       "      <td>0.002700</td>\n",
       "      <td>0.095957</td>\n",
       "      <td>0.968696</td>\n",
       "      <td>0.968695</td>\n",
       "    </tr>\n",
       "    <tr>\n",
       "      <td>10</td>\n",
       "      <td>0.001700</td>\n",
       "      <td>0.064077</td>\n",
       "      <td>0.979443</td>\n",
       "      <td>0.979427</td>\n",
       "    </tr>\n",
       "  </tbody>\n",
       "</table><p>"
      ],
      "text/plain": [
       "<IPython.core.display.HTML object>"
      ]
     },
     "metadata": {},
     "output_type": "display_data"
    },
    {
     "name": "stderr",
     "output_type": "stream",
     "text": [
      "/home/a1236507/anaconda3/envs/geneformer/lib/python3.11/site-packages/geneformer/collator_for_classification.py:644: UserWarning: To copy construct from a tensor, it is recommended to use sourceTensor.clone().detach() or sourceTensor.clone().detach().requires_grad_(True), rather than torch.tensor(sourceTensor).\n",
      "  batch = {k: torch.tensor(v, dtype=torch.int64) for k, v in batch.items()}\n",
      "/home/a1236507/anaconda3/envs/geneformer/lib/python3.11/site-packages/torch/nn/parallel/_functions.py:70: UserWarning: Was asked to gather along dimension 0, but all input tensors were scalars; will instead unsqueeze and return a vector.\n",
      "  warnings.warn(\n",
      "/home/a1236507/anaconda3/envs/geneformer/lib/python3.11/site-packages/geneformer/collator_for_classification.py:644: UserWarning: To copy construct from a tensor, it is recommended to use sourceTensor.clone().detach() or sourceTensor.clone().detach().requires_grad_(True), rather than torch.tensor(sourceTensor).\n",
      "  batch = {k: torch.tensor(v, dtype=torch.int64) for k, v in batch.items()}\n",
      "/home/a1236507/anaconda3/envs/geneformer/lib/python3.11/site-packages/torch/nn/parallel/_functions.py:70: UserWarning: Was asked to gather along dimension 0, but all input tensors were scalars; will instead unsqueeze and return a vector.\n",
      "  warnings.warn(\n",
      "/home/a1236507/anaconda3/envs/geneformer/lib/python3.11/site-packages/geneformer/collator_for_classification.py:644: UserWarning: To copy construct from a tensor, it is recommended to use sourceTensor.clone().detach() or sourceTensor.clone().detach().requires_grad_(True), rather than torch.tensor(sourceTensor).\n",
      "  batch = {k: torch.tensor(v, dtype=torch.int64) for k, v in batch.items()}\n",
      "/home/a1236507/anaconda3/envs/geneformer/lib/python3.11/site-packages/torch/nn/parallel/_functions.py:70: UserWarning: Was asked to gather along dimension 0, but all input tensors were scalars; will instead unsqueeze and return a vector.\n",
      "  warnings.warn(\n",
      "/home/a1236507/anaconda3/envs/geneformer/lib/python3.11/site-packages/geneformer/collator_for_classification.py:644: UserWarning: To copy construct from a tensor, it is recommended to use sourceTensor.clone().detach() or sourceTensor.clone().detach().requires_grad_(True), rather than torch.tensor(sourceTensor).\n",
      "  batch = {k: torch.tensor(v, dtype=torch.int64) for k, v in batch.items()}\n",
      "/home/a1236507/anaconda3/envs/geneformer/lib/python3.11/site-packages/torch/nn/parallel/_functions.py:70: UserWarning: Was asked to gather along dimension 0, but all input tensors were scalars; will instead unsqueeze and return a vector.\n",
      "  warnings.warn(\n",
      "/home/a1236507/anaconda3/envs/geneformer/lib/python3.11/site-packages/geneformer/collator_for_classification.py:644: UserWarning: To copy construct from a tensor, it is recommended to use sourceTensor.clone().detach() or sourceTensor.clone().detach().requires_grad_(True), rather than torch.tensor(sourceTensor).\n",
      "  batch = {k: torch.tensor(v, dtype=torch.int64) for k, v in batch.items()}\n",
      "/home/a1236507/anaconda3/envs/geneformer/lib/python3.11/site-packages/torch/nn/parallel/_functions.py:70: UserWarning: Was asked to gather along dimension 0, but all input tensors were scalars; will instead unsqueeze and return a vector.\n",
      "  warnings.warn(\n",
      "/home/a1236507/anaconda3/envs/geneformer/lib/python3.11/site-packages/geneformer/collator_for_classification.py:644: UserWarning: To copy construct from a tensor, it is recommended to use sourceTensor.clone().detach() or sourceTensor.clone().detach().requires_grad_(True), rather than torch.tensor(sourceTensor).\n",
      "  batch = {k: torch.tensor(v, dtype=torch.int64) for k, v in batch.items()}\n",
      "/home/a1236507/anaconda3/envs/geneformer/lib/python3.11/site-packages/torch/nn/parallel/_functions.py:70: UserWarning: Was asked to gather along dimension 0, but all input tensors were scalars; will instead unsqueeze and return a vector.\n",
      "  warnings.warn(\n",
      "/home/a1236507/anaconda3/envs/geneformer/lib/python3.11/site-packages/geneformer/collator_for_classification.py:644: UserWarning: To copy construct from a tensor, it is recommended to use sourceTensor.clone().detach() or sourceTensor.clone().detach().requires_grad_(True), rather than torch.tensor(sourceTensor).\n",
      "  batch = {k: torch.tensor(v, dtype=torch.int64) for k, v in batch.items()}\n",
      "/home/a1236507/anaconda3/envs/geneformer/lib/python3.11/site-packages/torch/nn/parallel/_functions.py:70: UserWarning: Was asked to gather along dimension 0, but all input tensors were scalars; will instead unsqueeze and return a vector.\n",
      "  warnings.warn(\n",
      "/home/a1236507/anaconda3/envs/geneformer/lib/python3.11/site-packages/geneformer/collator_for_classification.py:644: UserWarning: To copy construct from a tensor, it is recommended to use sourceTensor.clone().detach() or sourceTensor.clone().detach().requires_grad_(True), rather than torch.tensor(sourceTensor).\n",
      "  batch = {k: torch.tensor(v, dtype=torch.int64) for k, v in batch.items()}\n",
      "/home/a1236507/anaconda3/envs/geneformer/lib/python3.11/site-packages/torch/nn/parallel/_functions.py:70: UserWarning: Was asked to gather along dimension 0, but all input tensors were scalars; will instead unsqueeze and return a vector.\n",
      "  warnings.warn(\n",
      "/home/a1236507/anaconda3/envs/geneformer/lib/python3.11/site-packages/geneformer/collator_for_classification.py:644: UserWarning: To copy construct from a tensor, it is recommended to use sourceTensor.clone().detach() or sourceTensor.clone().detach().requires_grad_(True), rather than torch.tensor(sourceTensor).\n",
      "  batch = {k: torch.tensor(v, dtype=torch.int64) for k, v in batch.items()}\n",
      "/home/a1236507/anaconda3/envs/geneformer/lib/python3.11/site-packages/torch/nn/parallel/_functions.py:70: UserWarning: Was asked to gather along dimension 0, but all input tensors were scalars; will instead unsqueeze and return a vector.\n",
      "  warnings.warn(\n",
      "/home/a1236507/anaconda3/envs/geneformer/lib/python3.11/site-packages/geneformer/collator_for_classification.py:644: UserWarning: To copy construct from a tensor, it is recommended to use sourceTensor.clone().detach() or sourceTensor.clone().detach().requires_grad_(True), rather than torch.tensor(sourceTensor).\n",
      "  batch = {k: torch.tensor(v, dtype=torch.int64) for k, v in batch.items()}\n",
      "/home/a1236507/anaconda3/envs/geneformer/lib/python3.11/site-packages/torch/nn/parallel/_functions.py:70: UserWarning: Was asked to gather along dimension 0, but all input tensors were scalars; will instead unsqueeze and return a vector.\n",
      "  warnings.warn(\n"
     ]
    },
    {
     "data": {
      "application/vnd.jupyter.widget-view+json": {
       "model_id": "6b9c0bc9b8364d1cb0f313bb9e8cd888",
       "version_major": 2,
       "version_minor": 0
      },
      "text/plain": [
       "  0%|          | 0/109 [00:00<?, ?it/s]"
      ]
     },
     "metadata": {},
     "output_type": "display_data"
    },
    {
     "name": "stdout",
     "output_type": "stream",
     "text": [
      "****** Validation split: 4/5 ******\n",
      "\n"
     ]
    },
    {
     "data": {
      "application/vnd.jupyter.widget-view+json": {
       "model_id": "682ac7679ef24af1abcecd3f98f9aae8",
       "version_major": 2,
       "version_minor": 0
      },
      "text/plain": [
       "Filter (num_proc=16):   0%|          | 0/33558 [00:00<?, ? examples/s]"
      ]
     },
     "metadata": {},
     "output_type": "display_data"
    },
    {
     "data": {
      "application/vnd.jupyter.widget-view+json": {
       "model_id": "4131f768f9c748c88226b3a58d7a39b8",
       "version_major": 2,
       "version_minor": 0
      },
      "text/plain": [
       "Map (num_proc=16):   0%|          | 0/32450 [00:00<?, ? examples/s]"
      ]
     },
     "metadata": {},
     "output_type": "display_data"
    },
    {
     "data": {
      "application/vnd.jupyter.widget-view+json": {
       "model_id": "f39edb6e45be40b28a951e3519283d51",
       "version_major": 2,
       "version_minor": 0
      },
      "text/plain": [
       "Filter (num_proc=16):   0%|          | 0/33558 [00:00<?, ? examples/s]"
      ]
     },
     "metadata": {},
     "output_type": "display_data"
    },
    {
     "data": {
      "application/vnd.jupyter.widget-view+json": {
       "model_id": "6a3882418f6447efb1eaadb7c72e4622",
       "version_major": 2,
       "version_minor": 0
      },
      "text/plain": [
       "Map (num_proc=16):   0%|          | 0/17241 [00:00<?, ? examples/s]"
      ]
     },
     "metadata": {},
     "output_type": "display_data"
    },
    {
     "data": {
      "application/vnd.jupyter.widget-view+json": {
       "model_id": "757b5dcb052346d389e5ae44bf90af3e",
       "version_major": 2,
       "version_minor": 0
      },
      "text/plain": [
       "Saving the dataset (0/1 shards):   0%|          | 0/32450 [00:00<?, ? examples/s]"
      ]
     },
     "metadata": {},
     "output_type": "display_data"
    },
    {
     "data": {
      "application/vnd.jupyter.widget-view+json": {
       "model_id": "ad9d3d8df78743f6afdde31ad521dbe3",
       "version_major": 2,
       "version_minor": 0
      },
      "text/plain": [
       "Saving the dataset (0/1 shards):   0%|          | 0/17241 [00:00<?, ? examples/s]"
      ]
     },
     "metadata": {},
     "output_type": "display_data"
    },
    {
     "data": {
      "application/vnd.jupyter.widget-view+json": {
       "model_id": "be9089de89a94eb19eb44ed61c868b7a",
       "version_major": 2,
       "version_minor": 0
      },
      "text/plain": [
       "Filter (num_proc=16):   0%|          | 0/33558 [00:00<?, ? examples/s]"
      ]
     },
     "metadata": {},
     "output_type": "display_data"
    },
    {
     "data": {
      "application/vnd.jupyter.widget-view+json": {
       "model_id": "d16224f116204a9db910c8217cfcc82d",
       "version_major": 2,
       "version_minor": 0
      },
      "text/plain": [
       "Map (num_proc=16):   0%|          | 0/19649 [00:00<?, ? examples/s]"
      ]
     },
     "metadata": {},
     "output_type": "display_data"
    },
    {
     "data": {
      "application/vnd.jupyter.widget-view+json": {
       "model_id": "a6d2bcf14cdd43709926ca3ea512f9df",
       "version_major": 2,
       "version_minor": 0
      },
      "text/plain": [
       "Saving the dataset (0/1 shards):   0%|          | 0/19649 [00:00<?, ? examples/s]"
      ]
     },
     "metadata": {},
     "output_type": "display_data"
    },
    {
     "name": "stderr",
     "output_type": "stream",
     "text": [
      "Some weights of BertForTokenClassification were not initialized from the model checkpoint at /hpcfs/groups/phoenix-hpc-mangiola_laboratory/haroon/geneformer/trained_foundation_models/models/30M_AGGmetacell_2_6_emb256_SL2048_E2_B12_LR0.001_LSlinear_WU10000_Oadamw/checkpoint-533301 and are newly initialized: ['classifier.bias', 'classifier.weight']\n",
      "You should probably TRAIN this model on a down-stream task to be able to use it for predictions and inference.\n",
      "Detected kernel version 4.18.0, which is below the recommended minimum of 5.5.0; this can cause the process to hang. It is recommended to upgrade the kernel to the minimum version or higher.\n",
      "/home/a1236507/anaconda3/envs/geneformer/lib/python3.11/site-packages/geneformer/collator_for_classification.py:644: UserWarning: To copy construct from a tensor, it is recommended to use sourceTensor.clone().detach() or sourceTensor.clone().detach().requires_grad_(True), rather than torch.tensor(sourceTensor).\n",
      "  batch = {k: torch.tensor(v, dtype=torch.int64) for k, v in batch.items()}\n",
      "/home/a1236507/anaconda3/envs/geneformer/lib/python3.11/site-packages/torch/nn/parallel/_functions.py:70: UserWarning: Was asked to gather along dimension 0, but all input tensors were scalars; will instead unsqueeze and return a vector.\n",
      "  warnings.warn(\n"
     ]
    },
    {
     "data": {
      "text/html": [
       "\n",
       "    <div>\n",
       "      \n",
       "      <progress value='640' max='640' style='width:300px; height:20px; vertical-align: middle;'></progress>\n",
       "      [640/640 25:46, Epoch 10/10]\n",
       "    </div>\n",
       "    <table border=\"1\" class=\"dataframe\">\n",
       "  <thead>\n",
       " <tr style=\"text-align: left;\">\n",
       "      <th>Epoch</th>\n",
       "      <th>Training Loss</th>\n",
       "      <th>Validation Loss</th>\n",
       "      <th>Accuracy</th>\n",
       "      <th>Macro F1</th>\n",
       "    </tr>\n",
       "  </thead>\n",
       "  <tbody>\n",
       "    <tr>\n",
       "      <td>1</td>\n",
       "      <td>0.686400</td>\n",
       "      <td>0.634212</td>\n",
       "      <td>0.635014</td>\n",
       "      <td>0.630720</td>\n",
       "    </tr>\n",
       "    <tr>\n",
       "      <td>2</td>\n",
       "      <td>0.305500</td>\n",
       "      <td>0.521582</td>\n",
       "      <td>0.779876</td>\n",
       "      <td>0.777343</td>\n",
       "    </tr>\n",
       "    <tr>\n",
       "      <td>3</td>\n",
       "      <td>0.107700</td>\n",
       "      <td>0.666466</td>\n",
       "      <td>0.758439</td>\n",
       "      <td>0.756954</td>\n",
       "    </tr>\n",
       "    <tr>\n",
       "      <td>4</td>\n",
       "      <td>0.027400</td>\n",
       "      <td>0.717960</td>\n",
       "      <td>0.786099</td>\n",
       "      <td>0.785506</td>\n",
       "    </tr>\n",
       "    <tr>\n",
       "      <td>5</td>\n",
       "      <td>0.014100</td>\n",
       "      <td>0.797324</td>\n",
       "      <td>0.800535</td>\n",
       "      <td>0.800260</td>\n",
       "    </tr>\n",
       "    <tr>\n",
       "      <td>6</td>\n",
       "      <td>0.007400</td>\n",
       "      <td>0.924161</td>\n",
       "      <td>0.791326</td>\n",
       "      <td>0.790625</td>\n",
       "    </tr>\n",
       "    <tr>\n",
       "      <td>7</td>\n",
       "      <td>0.004900</td>\n",
       "      <td>0.909183</td>\n",
       "      <td>0.808282</td>\n",
       "      <td>0.808034</td>\n",
       "    </tr>\n",
       "    <tr>\n",
       "      <td>8</td>\n",
       "      <td>0.002900</td>\n",
       "      <td>1.019458</td>\n",
       "      <td>0.802526</td>\n",
       "      <td>0.802125</td>\n",
       "    </tr>\n",
       "    <tr>\n",
       "      <td>9</td>\n",
       "      <td>0.002000</td>\n",
       "      <td>1.050686</td>\n",
       "      <td>0.798482</td>\n",
       "      <td>0.798073</td>\n",
       "    </tr>\n",
       "    <tr>\n",
       "      <td>10</td>\n",
       "      <td>0.001900</td>\n",
       "      <td>1.146761</td>\n",
       "      <td>0.790828</td>\n",
       "      <td>0.789893</td>\n",
       "    </tr>\n",
       "  </tbody>\n",
       "</table><p>"
      ],
      "text/plain": [
       "<IPython.core.display.HTML object>"
      ]
     },
     "metadata": {},
     "output_type": "display_data"
    },
    {
     "name": "stderr",
     "output_type": "stream",
     "text": [
      "/home/a1236507/anaconda3/envs/geneformer/lib/python3.11/site-packages/geneformer/collator_for_classification.py:644: UserWarning: To copy construct from a tensor, it is recommended to use sourceTensor.clone().detach() or sourceTensor.clone().detach().requires_grad_(True), rather than torch.tensor(sourceTensor).\n",
      "  batch = {k: torch.tensor(v, dtype=torch.int64) for k, v in batch.items()}\n",
      "/home/a1236507/anaconda3/envs/geneformer/lib/python3.11/site-packages/torch/nn/parallel/_functions.py:70: UserWarning: Was asked to gather along dimension 0, but all input tensors were scalars; will instead unsqueeze and return a vector.\n",
      "  warnings.warn(\n",
      "/home/a1236507/anaconda3/envs/geneformer/lib/python3.11/site-packages/geneformer/collator_for_classification.py:644: UserWarning: To copy construct from a tensor, it is recommended to use sourceTensor.clone().detach() or sourceTensor.clone().detach().requires_grad_(True), rather than torch.tensor(sourceTensor).\n",
      "  batch = {k: torch.tensor(v, dtype=torch.int64) for k, v in batch.items()}\n",
      "/home/a1236507/anaconda3/envs/geneformer/lib/python3.11/site-packages/torch/nn/parallel/_functions.py:70: UserWarning: Was asked to gather along dimension 0, but all input tensors were scalars; will instead unsqueeze and return a vector.\n",
      "  warnings.warn(\n",
      "/home/a1236507/anaconda3/envs/geneformer/lib/python3.11/site-packages/geneformer/collator_for_classification.py:644: UserWarning: To copy construct from a tensor, it is recommended to use sourceTensor.clone().detach() or sourceTensor.clone().detach().requires_grad_(True), rather than torch.tensor(sourceTensor).\n",
      "  batch = {k: torch.tensor(v, dtype=torch.int64) for k, v in batch.items()}\n",
      "/home/a1236507/anaconda3/envs/geneformer/lib/python3.11/site-packages/torch/nn/parallel/_functions.py:70: UserWarning: Was asked to gather along dimension 0, but all input tensors were scalars; will instead unsqueeze and return a vector.\n",
      "  warnings.warn(\n",
      "/home/a1236507/anaconda3/envs/geneformer/lib/python3.11/site-packages/geneformer/collator_for_classification.py:644: UserWarning: To copy construct from a tensor, it is recommended to use sourceTensor.clone().detach() or sourceTensor.clone().detach().requires_grad_(True), rather than torch.tensor(sourceTensor).\n",
      "  batch = {k: torch.tensor(v, dtype=torch.int64) for k, v in batch.items()}\n",
      "/home/a1236507/anaconda3/envs/geneformer/lib/python3.11/site-packages/torch/nn/parallel/_functions.py:70: UserWarning: Was asked to gather along dimension 0, but all input tensors were scalars; will instead unsqueeze and return a vector.\n",
      "  warnings.warn(\n",
      "/home/a1236507/anaconda3/envs/geneformer/lib/python3.11/site-packages/geneformer/collator_for_classification.py:644: UserWarning: To copy construct from a tensor, it is recommended to use sourceTensor.clone().detach() or sourceTensor.clone().detach().requires_grad_(True), rather than torch.tensor(sourceTensor).\n",
      "  batch = {k: torch.tensor(v, dtype=torch.int64) for k, v in batch.items()}\n",
      "/home/a1236507/anaconda3/envs/geneformer/lib/python3.11/site-packages/torch/nn/parallel/_functions.py:70: UserWarning: Was asked to gather along dimension 0, but all input tensors were scalars; will instead unsqueeze and return a vector.\n",
      "  warnings.warn(\n",
      "/home/a1236507/anaconda3/envs/geneformer/lib/python3.11/site-packages/geneformer/collator_for_classification.py:644: UserWarning: To copy construct from a tensor, it is recommended to use sourceTensor.clone().detach() or sourceTensor.clone().detach().requires_grad_(True), rather than torch.tensor(sourceTensor).\n",
      "  batch = {k: torch.tensor(v, dtype=torch.int64) for k, v in batch.items()}\n",
      "/home/a1236507/anaconda3/envs/geneformer/lib/python3.11/site-packages/torch/nn/parallel/_functions.py:70: UserWarning: Was asked to gather along dimension 0, but all input tensors were scalars; will instead unsqueeze and return a vector.\n",
      "  warnings.warn(\n",
      "/home/a1236507/anaconda3/envs/geneformer/lib/python3.11/site-packages/geneformer/collator_for_classification.py:644: UserWarning: To copy construct from a tensor, it is recommended to use sourceTensor.clone().detach() or sourceTensor.clone().detach().requires_grad_(True), rather than torch.tensor(sourceTensor).\n",
      "  batch = {k: torch.tensor(v, dtype=torch.int64) for k, v in batch.items()}\n",
      "/home/a1236507/anaconda3/envs/geneformer/lib/python3.11/site-packages/torch/nn/parallel/_functions.py:70: UserWarning: Was asked to gather along dimension 0, but all input tensors were scalars; will instead unsqueeze and return a vector.\n",
      "  warnings.warn(\n",
      "/home/a1236507/anaconda3/envs/geneformer/lib/python3.11/site-packages/geneformer/collator_for_classification.py:644: UserWarning: To copy construct from a tensor, it is recommended to use sourceTensor.clone().detach() or sourceTensor.clone().detach().requires_grad_(True), rather than torch.tensor(sourceTensor).\n",
      "  batch = {k: torch.tensor(v, dtype=torch.int64) for k, v in batch.items()}\n",
      "/home/a1236507/anaconda3/envs/geneformer/lib/python3.11/site-packages/torch/nn/parallel/_functions.py:70: UserWarning: Was asked to gather along dimension 0, but all input tensors were scalars; will instead unsqueeze and return a vector.\n",
      "  warnings.warn(\n",
      "/home/a1236507/anaconda3/envs/geneformer/lib/python3.11/site-packages/geneformer/collator_for_classification.py:644: UserWarning: To copy construct from a tensor, it is recommended to use sourceTensor.clone().detach() or sourceTensor.clone().detach().requires_grad_(True), rather than torch.tensor(sourceTensor).\n",
      "  batch = {k: torch.tensor(v, dtype=torch.int64) for k, v in batch.items()}\n",
      "/home/a1236507/anaconda3/envs/geneformer/lib/python3.11/site-packages/torch/nn/parallel/_functions.py:70: UserWarning: Was asked to gather along dimension 0, but all input tensors were scalars; will instead unsqueeze and return a vector.\n",
      "  warnings.warn(\n",
      "/home/a1236507/anaconda3/envs/geneformer/lib/python3.11/site-packages/geneformer/collator_for_classification.py:644: UserWarning: To copy construct from a tensor, it is recommended to use sourceTensor.clone().detach() or sourceTensor.clone().detach().requires_grad_(True), rather than torch.tensor(sourceTensor).\n",
      "  batch = {k: torch.tensor(v, dtype=torch.int64) for k, v in batch.items()}\n",
      "/home/a1236507/anaconda3/envs/geneformer/lib/python3.11/site-packages/torch/nn/parallel/_functions.py:70: UserWarning: Was asked to gather along dimension 0, but all input tensors were scalars; will instead unsqueeze and return a vector.\n",
      "  warnings.warn(\n"
     ]
    },
    {
     "data": {
      "application/vnd.jupyter.widget-view+json": {
       "model_id": "e3f3a51dd8b54d6590a773209ee7df5e",
       "version_major": 2,
       "version_minor": 0
      },
      "text/plain": [
       "  0%|          | 0/87 [00:00<?, ?it/s]"
      ]
     },
     "metadata": {},
     "output_type": "display_data"
    },
    {
     "name": "stdout",
     "output_type": "stream",
     "text": [
      "****** Validation split: 5/5 ******\n",
      "\n"
     ]
    },
    {
     "data": {
      "application/vnd.jupyter.widget-view+json": {
       "model_id": "6cf5512ecc8c4be1832a42ecafca80cd",
       "version_major": 2,
       "version_minor": 0
      },
      "text/plain": [
       "Filter (num_proc=16):   0%|          | 0/33558 [00:00<?, ? examples/s]"
      ]
     },
     "metadata": {},
     "output_type": "display_data"
    },
    {
     "data": {
      "application/vnd.jupyter.widget-view+json": {
       "model_id": "f8783f5d59a54034ba17a1cdc2ae4ae4",
       "version_major": 2,
       "version_minor": 0
      },
      "text/plain": [
       "Map (num_proc=16):   0%|          | 0/32185 [00:00<?, ? examples/s]"
      ]
     },
     "metadata": {},
     "output_type": "display_data"
    },
    {
     "data": {
      "application/vnd.jupyter.widget-view+json": {
       "model_id": "5c54d88e5d5e43dca512a183aff7eea2",
       "version_major": 2,
       "version_minor": 0
      },
      "text/plain": [
       "Filter (num_proc=16):   0%|          | 0/33558 [00:00<?, ? examples/s]"
      ]
     },
     "metadata": {},
     "output_type": "display_data"
    },
    {
     "data": {
      "application/vnd.jupyter.widget-view+json": {
       "model_id": "5caac966f22b4deb80a866e2d9a4cc38",
       "version_major": 2,
       "version_minor": 0
      },
      "text/plain": [
       "Map (num_proc=16):   0%|          | 0/20416 [00:00<?, ? examples/s]"
      ]
     },
     "metadata": {},
     "output_type": "display_data"
    },
    {
     "data": {
      "application/vnd.jupyter.widget-view+json": {
       "model_id": "eef057dcaf754441b565e2113199314d",
       "version_major": 2,
       "version_minor": 0
      },
      "text/plain": [
       "Saving the dataset (0/1 shards):   0%|          | 0/32185 [00:00<?, ? examples/s]"
      ]
     },
     "metadata": {},
     "output_type": "display_data"
    },
    {
     "data": {
      "application/vnd.jupyter.widget-view+json": {
       "model_id": "71208eecacc64c68bc7a8858e7702f71",
       "version_major": 2,
       "version_minor": 0
      },
      "text/plain": [
       "Saving the dataset (0/1 shards):   0%|          | 0/20416 [00:00<?, ? examples/s]"
      ]
     },
     "metadata": {},
     "output_type": "display_data"
    },
    {
     "data": {
      "application/vnd.jupyter.widget-view+json": {
       "model_id": "cf00266fafda4d11b8ef71ecb9cd245a",
       "version_major": 2,
       "version_minor": 0
      },
      "text/plain": [
       "Filter (num_proc=16):   0%|          | 0/33558 [00:00<?, ? examples/s]"
      ]
     },
     "metadata": {},
     "output_type": "display_data"
    },
    {
     "data": {
      "application/vnd.jupyter.widget-view+json": {
       "model_id": "1175a0ada8f5440490f518cdbe943a39",
       "version_major": 2,
       "version_minor": 0
      },
      "text/plain": [
       "Map (num_proc=16):   0%|          | 0/18114 [00:00<?, ? examples/s]"
      ]
     },
     "metadata": {},
     "output_type": "display_data"
    },
    {
     "data": {
      "application/vnd.jupyter.widget-view+json": {
       "model_id": "034dd159d9e34b139ccf96d70b21a1ed",
       "version_major": 2,
       "version_minor": 0
      },
      "text/plain": [
       "Saving the dataset (0/1 shards):   0%|          | 0/18114 [00:00<?, ? examples/s]"
      ]
     },
     "metadata": {},
     "output_type": "display_data"
    },
    {
     "name": "stderr",
     "output_type": "stream",
     "text": [
      "Some weights of BertForTokenClassification were not initialized from the model checkpoint at /hpcfs/groups/phoenix-hpc-mangiola_laboratory/haroon/geneformer/trained_foundation_models/models/30M_AGGmetacell_2_6_emb256_SL2048_E2_B12_LR0.001_LSlinear_WU10000_Oadamw/checkpoint-533301 and are newly initialized: ['classifier.bias', 'classifier.weight']\n",
      "You should probably TRAIN this model on a down-stream task to be able to use it for predictions and inference.\n",
      "Detected kernel version 4.18.0, which is below the recommended minimum of 5.5.0; this can cause the process to hang. It is recommended to upgrade the kernel to the minimum version or higher.\n",
      "/home/a1236507/anaconda3/envs/geneformer/lib/python3.11/site-packages/geneformer/collator_for_classification.py:644: UserWarning: To copy construct from a tensor, it is recommended to use sourceTensor.clone().detach() or sourceTensor.clone().detach().requires_grad_(True), rather than torch.tensor(sourceTensor).\n",
      "  batch = {k: torch.tensor(v, dtype=torch.int64) for k, v in batch.items()}\n",
      "/home/a1236507/anaconda3/envs/geneformer/lib/python3.11/site-packages/torch/nn/parallel/_functions.py:70: UserWarning: Was asked to gather along dimension 0, but all input tensors were scalars; will instead unsqueeze and return a vector.\n",
      "  warnings.warn(\n"
     ]
    },
    {
     "data": {
      "text/html": [
       "\n",
       "    <div>\n",
       "      \n",
       "      <progress value='630' max='630' style='width:300px; height:20px; vertical-align: middle;'></progress>\n",
       "      [630/630 27:03, Epoch 10/10]\n",
       "    </div>\n",
       "    <table border=\"1\" class=\"dataframe\">\n",
       "  <thead>\n",
       " <tr style=\"text-align: left;\">\n",
       "      <th>Epoch</th>\n",
       "      <th>Training Loss</th>\n",
       "      <th>Validation Loss</th>\n",
       "      <th>Accuracy</th>\n",
       "      <th>Macro F1</th>\n",
       "    </tr>\n",
       "  </thead>\n",
       "  <tbody>\n",
       "    <tr>\n",
       "      <td>1</td>\n",
       "      <td>0.689200</td>\n",
       "      <td>0.568812</td>\n",
       "      <td>0.768156</td>\n",
       "      <td>0.759863</td>\n",
       "    </tr>\n",
       "    <tr>\n",
       "      <td>2</td>\n",
       "      <td>0.320200</td>\n",
       "      <td>0.365822</td>\n",
       "      <td>0.868890</td>\n",
       "      <td>0.861751</td>\n",
       "    </tr>\n",
       "    <tr>\n",
       "      <td>3</td>\n",
       "      <td>0.113000</td>\n",
       "      <td>0.356791</td>\n",
       "      <td>0.873949</td>\n",
       "      <td>0.867517</td>\n",
       "    </tr>\n",
       "    <tr>\n",
       "      <td>4</td>\n",
       "      <td>0.027800</td>\n",
       "      <td>0.371645</td>\n",
       "      <td>0.897441</td>\n",
       "      <td>0.890760</td>\n",
       "    </tr>\n",
       "    <tr>\n",
       "      <td>5</td>\n",
       "      <td>0.013900</td>\n",
       "      <td>0.399603</td>\n",
       "      <td>0.902361</td>\n",
       "      <td>0.896645</td>\n",
       "    </tr>\n",
       "    <tr>\n",
       "      <td>6</td>\n",
       "      <td>0.007300</td>\n",
       "      <td>0.413476</td>\n",
       "      <td>0.907535</td>\n",
       "      <td>0.901979</td>\n",
       "    </tr>\n",
       "    <tr>\n",
       "      <td>7</td>\n",
       "      <td>0.004600</td>\n",
       "      <td>0.452268</td>\n",
       "      <td>0.910353</td>\n",
       "      <td>0.903938</td>\n",
       "    </tr>\n",
       "    <tr>\n",
       "      <td>8</td>\n",
       "      <td>0.002700</td>\n",
       "      <td>0.446660</td>\n",
       "      <td>0.915735</td>\n",
       "      <td>0.910021</td>\n",
       "    </tr>\n",
       "    <tr>\n",
       "      <td>9</td>\n",
       "      <td>0.002300</td>\n",
       "      <td>0.489769</td>\n",
       "      <td>0.912132</td>\n",
       "      <td>0.905565</td>\n",
       "    </tr>\n",
       "    <tr>\n",
       "      <td>10</td>\n",
       "      <td>0.001400</td>\n",
       "      <td>0.483696</td>\n",
       "      <td>0.914557</td>\n",
       "      <td>0.908843</td>\n",
       "    </tr>\n",
       "  </tbody>\n",
       "</table><p>"
      ],
      "text/plain": [
       "<IPython.core.display.HTML object>"
      ]
     },
     "metadata": {},
     "output_type": "display_data"
    },
    {
     "name": "stderr",
     "output_type": "stream",
     "text": [
      "/home/a1236507/anaconda3/envs/geneformer/lib/python3.11/site-packages/geneformer/collator_for_classification.py:644: UserWarning: To copy construct from a tensor, it is recommended to use sourceTensor.clone().detach() or sourceTensor.clone().detach().requires_grad_(True), rather than torch.tensor(sourceTensor).\n",
      "  batch = {k: torch.tensor(v, dtype=torch.int64) for k, v in batch.items()}\n",
      "/home/a1236507/anaconda3/envs/geneformer/lib/python3.11/site-packages/torch/nn/parallel/_functions.py:70: UserWarning: Was asked to gather along dimension 0, but all input tensors were scalars; will instead unsqueeze and return a vector.\n",
      "  warnings.warn(\n",
      "/home/a1236507/anaconda3/envs/geneformer/lib/python3.11/site-packages/geneformer/collator_for_classification.py:644: UserWarning: To copy construct from a tensor, it is recommended to use sourceTensor.clone().detach() or sourceTensor.clone().detach().requires_grad_(True), rather than torch.tensor(sourceTensor).\n",
      "  batch = {k: torch.tensor(v, dtype=torch.int64) for k, v in batch.items()}\n",
      "/home/a1236507/anaconda3/envs/geneformer/lib/python3.11/site-packages/torch/nn/parallel/_functions.py:70: UserWarning: Was asked to gather along dimension 0, but all input tensors were scalars; will instead unsqueeze and return a vector.\n",
      "  warnings.warn(\n",
      "/home/a1236507/anaconda3/envs/geneformer/lib/python3.11/site-packages/geneformer/collator_for_classification.py:644: UserWarning: To copy construct from a tensor, it is recommended to use sourceTensor.clone().detach() or sourceTensor.clone().detach().requires_grad_(True), rather than torch.tensor(sourceTensor).\n",
      "  batch = {k: torch.tensor(v, dtype=torch.int64) for k, v in batch.items()}\n",
      "/home/a1236507/anaconda3/envs/geneformer/lib/python3.11/site-packages/torch/nn/parallel/_functions.py:70: UserWarning: Was asked to gather along dimension 0, but all input tensors were scalars; will instead unsqueeze and return a vector.\n",
      "  warnings.warn(\n",
      "/home/a1236507/anaconda3/envs/geneformer/lib/python3.11/site-packages/geneformer/collator_for_classification.py:644: UserWarning: To copy construct from a tensor, it is recommended to use sourceTensor.clone().detach() or sourceTensor.clone().detach().requires_grad_(True), rather than torch.tensor(sourceTensor).\n",
      "  batch = {k: torch.tensor(v, dtype=torch.int64) for k, v in batch.items()}\n",
      "/home/a1236507/anaconda3/envs/geneformer/lib/python3.11/site-packages/torch/nn/parallel/_functions.py:70: UserWarning: Was asked to gather along dimension 0, but all input tensors were scalars; will instead unsqueeze and return a vector.\n",
      "  warnings.warn(\n",
      "/home/a1236507/anaconda3/envs/geneformer/lib/python3.11/site-packages/geneformer/collator_for_classification.py:644: UserWarning: To copy construct from a tensor, it is recommended to use sourceTensor.clone().detach() or sourceTensor.clone().detach().requires_grad_(True), rather than torch.tensor(sourceTensor).\n",
      "  batch = {k: torch.tensor(v, dtype=torch.int64) for k, v in batch.items()}\n",
      "/home/a1236507/anaconda3/envs/geneformer/lib/python3.11/site-packages/torch/nn/parallel/_functions.py:70: UserWarning: Was asked to gather along dimension 0, but all input tensors were scalars; will instead unsqueeze and return a vector.\n",
      "  warnings.warn(\n",
      "/home/a1236507/anaconda3/envs/geneformer/lib/python3.11/site-packages/geneformer/collator_for_classification.py:644: UserWarning: To copy construct from a tensor, it is recommended to use sourceTensor.clone().detach() or sourceTensor.clone().detach().requires_grad_(True), rather than torch.tensor(sourceTensor).\n",
      "  batch = {k: torch.tensor(v, dtype=torch.int64) for k, v in batch.items()}\n",
      "/home/a1236507/anaconda3/envs/geneformer/lib/python3.11/site-packages/torch/nn/parallel/_functions.py:70: UserWarning: Was asked to gather along dimension 0, but all input tensors were scalars; will instead unsqueeze and return a vector.\n",
      "  warnings.warn(\n",
      "/home/a1236507/anaconda3/envs/geneformer/lib/python3.11/site-packages/geneformer/collator_for_classification.py:644: UserWarning: To copy construct from a tensor, it is recommended to use sourceTensor.clone().detach() or sourceTensor.clone().detach().requires_grad_(True), rather than torch.tensor(sourceTensor).\n",
      "  batch = {k: torch.tensor(v, dtype=torch.int64) for k, v in batch.items()}\n",
      "/home/a1236507/anaconda3/envs/geneformer/lib/python3.11/site-packages/torch/nn/parallel/_functions.py:70: UserWarning: Was asked to gather along dimension 0, but all input tensors were scalars; will instead unsqueeze and return a vector.\n",
      "  warnings.warn(\n",
      "/home/a1236507/anaconda3/envs/geneformer/lib/python3.11/site-packages/geneformer/collator_for_classification.py:644: UserWarning: To copy construct from a tensor, it is recommended to use sourceTensor.clone().detach() or sourceTensor.clone().detach().requires_grad_(True), rather than torch.tensor(sourceTensor).\n",
      "  batch = {k: torch.tensor(v, dtype=torch.int64) for k, v in batch.items()}\n",
      "/home/a1236507/anaconda3/envs/geneformer/lib/python3.11/site-packages/torch/nn/parallel/_functions.py:70: UserWarning: Was asked to gather along dimension 0, but all input tensors were scalars; will instead unsqueeze and return a vector.\n",
      "  warnings.warn(\n",
      "/home/a1236507/anaconda3/envs/geneformer/lib/python3.11/site-packages/geneformer/collator_for_classification.py:644: UserWarning: To copy construct from a tensor, it is recommended to use sourceTensor.clone().detach() or sourceTensor.clone().detach().requires_grad_(True), rather than torch.tensor(sourceTensor).\n",
      "  batch = {k: torch.tensor(v, dtype=torch.int64) for k, v in batch.items()}\n",
      "/home/a1236507/anaconda3/envs/geneformer/lib/python3.11/site-packages/torch/nn/parallel/_functions.py:70: UserWarning: Was asked to gather along dimension 0, but all input tensors were scalars; will instead unsqueeze and return a vector.\n",
      "  warnings.warn(\n",
      "/home/a1236507/anaconda3/envs/geneformer/lib/python3.11/site-packages/geneformer/collator_for_classification.py:644: UserWarning: To copy construct from a tensor, it is recommended to use sourceTensor.clone().detach() or sourceTensor.clone().detach().requires_grad_(True), rather than torch.tensor(sourceTensor).\n",
      "  batch = {k: torch.tensor(v, dtype=torch.int64) for k, v in batch.items()}\n",
      "/home/a1236507/anaconda3/envs/geneformer/lib/python3.11/site-packages/torch/nn/parallel/_functions.py:70: UserWarning: Was asked to gather along dimension 0, but all input tensors were scalars; will instead unsqueeze and return a vector.\n",
      "  warnings.warn(\n"
     ]
    },
    {
     "data": {
      "application/vnd.jupyter.widget-view+json": {
       "model_id": "403c29a474f245379087b0e1c60d0588",
       "version_major": 2,
       "version_minor": 0
      },
      "text/plain": [
       "  0%|          | 0/103 [00:00<?, ?it/s]"
      ]
     },
     "metadata": {},
     "output_type": "display_data"
    }
   ],
   "source": [
    "# 6 layer 30M Geneformer model: https://huggingface.co/ctheodoris/Geneformer/blob/main/gf-6L-30M-i2048/model.safetensors\n",
    "all_metrics = cc.validate(model_directory=pretrained_model_path,\n",
    "                          prepared_input_data_file=f\"{output_dir}/{output_prefix}_labeled.dataset\",\n",
    "                          id_class_dict_file=f\"{output_dir}/{output_prefix}_id_class_dict.pkl\",\n",
    "                          output_directory=output_dir,\n",
    "                          output_prefix=output_prefix)"
   ]
  },
  {
   "cell_type": "code",
   "execution_count": 15,
   "id": "e68c7319",
   "metadata": {},
   "outputs": [
    {
     "data": {
      "text/plain": [
       "<Figure size 1000x1000 with 0 Axes>"
      ]
     },
     "metadata": {},
     "output_type": "display_data"
    },
    {
     "data": {
      "image/png": "[encoded data removed]",
      "text/plain": [
       "<Figure size 640x480 with 2 Axes>"
      ]
     },
     "metadata": {},
     "output_type": "display_data"
    }
   ],
   "source": [
    "cc.plot_conf_mat(\n",
    "    conf_mat_dict={\"Geneformer\": all_metrics[\"conf_matrix\"]},\n",
    "    output_directory=output_dir,\n",
    "    output_prefix=output_prefix,\n",
    ")"
   ]
  },
  {
   "cell_type": "code",
   "execution_count": 16,
   "id": "daefbcde",
   "metadata": {},
   "outputs": [
    {
     "data": {
      "image/png": "[encoded data removed]",
      "text/plain": [
       "<Figure size 1000x800 with 1 Axes>"
      ]
     },
     "metadata": {},
     "output_type": "display_data"
    }
   ],
   "source": [
    "cc.plot_roc(\n",
    "    roc_metric_dict={\"Geneformer\": all_metrics[\"all_roc_metrics\"]},\n",
    "    model_style_dict={\"Geneformer\": {\"color\": \"red\", \"linestyle\": \"-\"}},\n",
    "    title=\"Dosage-sensitive vs -insensitive factors\",\n",
    "    output_directory=output_dir,\n",
    "    output_prefix=output_prefix,\n",
    ")"
   ]
  },
  {
   "cell_type": "code",
   "execution_count": 17,
   "id": "e6396c86",
   "metadata": {},
   "outputs": [
    {
     "data": {
      "text/plain": [
       "{'conf_matrix':                         Dosage-sensitive TFs  Dosage-insensitive TFs\n",
       " Dosage-sensitive TFs                 86940.0                 13688.0\n",
       " Dosage-insensitive TFs               10916.0                100791.0,\n",
       " 'macro_f1': [np.float64(0.9197156763664855),\n",
       "  np.float64(0.8278392141553981),\n",
       "  np.float64(0.9811089477807287),\n",
       "  np.float64(0.7773433848416131),\n",
       "  np.float64(0.8675169270789675)],\n",
       " 'acc': [0.9197513777397519,\n",
       "  0.8278463947116639,\n",
       "  0.981123595505618,\n",
       "  0.7798761706231916,\n",
       "  0.8739489975053127],\n",
       " 'all_roc_metrics': {'mean_tpr': array([0.        , 0.35504189, 0.42537724, 0.46824409, 0.50981353,\n",
       "         0.54683693, 0.5798508 , 0.60944095, 0.63657493, 0.66240541,\n",
       "         0.68822586, 0.71092107, 0.73129953, 0.74997095, 0.76900175,\n",
       "         0.78801176, 0.80757207, 0.82412733, 0.84020151, 0.85452854,\n",
       "         0.86812236, 0.879918  , 0.88946134, 0.89733497, 0.90478489,\n",
       "         0.91083387, 0.91726901, 0.92262789, 0.92743927, 0.93247489,\n",
       "         0.93674472, 0.94067184, 0.94405368, 0.94798172, 0.95146356,\n",
       "         0.95373142, 0.9566519 , 0.95936477, 0.96207383, 0.96401792,\n",
       "         0.96604409, 0.96800886, 0.9699991 , 0.97207947, 0.97389711,\n",
       "         0.9752753 , 0.97700146, 0.97853389, 0.97986143, 0.98114672,\n",
       "         0.98235473, 0.98329776, 0.98435629, 0.9850244 , 0.98618653,\n",
       "         0.98682754, 0.98762904, 0.98833907, 0.98916454, 0.98985534,\n",
       "         0.99049964, 0.99116623, 0.99195244, 0.99255751, 0.99313109,\n",
       "         0.99369488, 0.99423933, 0.99501971, 0.99548825, 0.99590775,\n",
       "         0.99632013, 0.9967433 , 0.997289  , 0.997785  , 0.99816035,\n",
       "         0.99847472, 0.99874598, 0.99902296, 0.99920973, 0.99937594,\n",
       "         0.99942339, 0.99950728, 0.99958414, 0.99966325, 0.99972658,\n",
       "         0.9997402 , 0.99981922, 0.99984863, 0.99988593, 0.99989382,\n",
       "         0.99990961, 0.99995264, 0.99995264, 0.99996053, 0.99997632,\n",
       "         0.99998421, 1.        , 1.        , 1.        , 1.        ]),\n",
       "  'mean_fpr': array([0.        , 0.01010101, 0.02020202, 0.03030303, 0.04040404,\n",
       "         0.05050505, 0.06060606, 0.07070707, 0.08080808, 0.09090909,\n",
       "         0.1010101 , 0.11111111, 0.12121212, 0.13131313, 0.14141414,\n",
       "         0.15151515, 0.16161616, 0.17171717, 0.18181818, 0.19191919,\n",
       "         0.2020202 , 0.21212121, 0.22222222, 0.23232323, 0.24242424,\n",
       "         0.25252525, 0.26262626, 0.27272727, 0.28282828, 0.29292929,\n",
       "         0.3030303 , 0.31313131, 0.32323232, 0.33333333, 0.34343434,\n",
       "         0.35353535, 0.36363636, 0.37373737, 0.38383838, 0.39393939,\n",
       "         0.4040404 , 0.41414141, 0.42424242, 0.43434343, 0.44444444,\n",
       "         0.45454545, 0.46464646, 0.47474747, 0.48484848, 0.49494949,\n",
       "         0.50505051, 0.51515152, 0.52525253, 0.53535354, 0.54545455,\n",
       "         0.55555556, 0.56565657, 0.57575758, 0.58585859, 0.5959596 ,\n",
       "         0.60606061, 0.61616162, 0.62626263, 0.63636364, 0.64646465,\n",
       "         0.65656566, 0.66666667, 0.67676768, 0.68686869, 0.6969697 ,\n",
       "         0.70707071, 0.71717172, 0.72727273, 0.73737374, 0.74747475,\n",
       "         0.75757576, 0.76767677, 0.77777778, 0.78787879, 0.7979798 ,\n",
       "         0.80808081, 0.81818182, 0.82828283, 0.83838384, 0.84848485,\n",
       "         0.85858586, 0.86868687, 0.87878788, 0.88888889, 0.8989899 ,\n",
       "         0.90909091, 0.91919192, 0.92929293, 0.93939394, 0.94949495,\n",
       "         0.95959596, 0.96969697, 0.97979798, 0.98989899, 1.        ]),\n",
       "  'all_roc_auc': [np.float64(0.9711960549125123),\n",
       "   np.float64(0.9098890504834949),\n",
       "   np.float64(0.998205831140183),\n",
       "   np.float64(0.8417795887438622),\n",
       "   np.float64(0.9456159692355324)],\n",
       "  'roc_auc': np.float64(0.9115988668472609),\n",
       "  'roc_auc_sd': 0.04933440266213514}}"
      ]
     },
     "execution_count": 17,
     "metadata": {},
     "output_type": "execute_result"
    }
   ],
   "source": [
    "all_metrics"
   ]
  },
  {
   "cell_type": "code",
   "execution_count": null,
   "id": "bc5708f7",
   "metadata": {},
   "outputs": [],
   "source": []
  },
  {
   "cell_type": "code",
   "execution_count": null,
   "id": "c76a836e",
   "metadata": {},
   "outputs": [],
   "source": []
  },
  {
   "cell_type": "code",
   "execution_count": null,
   "id": "b5ac733e",
   "metadata": {},
   "outputs": [],
   "source": []
  },
  {
   "cell_type": "code",
   "execution_count": null,
   "id": "a0e90134",
   "metadata": {},
   "outputs": [],
   "source": []
  },
  {
   "cell_type": "code",
   "execution_count": null,
   "id": "c8d53364",
   "metadata": {},
   "outputs": [],
   "source": []
  },
  {
   "cell_type": "code",
   "execution_count": null,
   "id": "3ffa892b",
   "metadata": {},
   "outputs": [],
   "source": []
  },
  {
   "cell_type": "code",
   "execution_count": null,
   "id": "3b5391c2",
   "metadata": {},
   "outputs": [],
   "source": []
  },
  {
   "cell_type": "code",
   "execution_count": null,
   "id": "aae4f3c7",
   "metadata": {},
   "outputs": [],
   "source": []
  },
  {
   "cell_type": "code",
   "execution_count": null,
   "id": "0e289013",
   "metadata": {},
   "outputs": [],
   "source": []
  },
  {
   "cell_type": "code",
   "execution_count": null,
   "id": "75b0e9a8",
   "metadata": {},
   "outputs": [],
   "source": []
  },
  {
   "cell_type": "code",
   "execution_count": null,
   "id": "0c7735db",
   "metadata": {},
   "outputs": [],
   "source": []
  },
  {
   "cell_type": "code",
   "execution_count": null,
   "id": "e368d692",
   "metadata": {},
   "outputs": [],
   "source": []
  },
  {
   "cell_type": "code",
   "execution_count": null,
   "id": "c248598a",
   "metadata": {},
   "outputs": [],
   "source": []
  },
  {
   "cell_type": "code",
   "execution_count": null,
   "id": "3b1cce6a",
   "metadata": {},
   "outputs": [],
   "source": []
  },
  {
   "cell_type": "code",
   "execution_count": null,
   "id": "4a58100d",
   "metadata": {},
   "outputs": [],
   "source": []
  },
  {
   "cell_type": "code",
   "execution_count": null,
   "id": "06259a9b",
   "metadata": {},
   "outputs": [],
   "source": []
  }
 ],
 "metadata": {
  "kernelspec": {
   "display_name": "Python 3 (ipykernel)",
   "language": "python",
   "name": "python3"
  }
 },
 "nbformat": 4,
 "nbformat_minor": 5
}
